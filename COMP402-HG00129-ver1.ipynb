{
 "cells": [
  {
   "cell_type": "markdown",
   "id": "549bf735",
   "metadata": {},
   "source": [
    "# COMP402\n",
    "Code used for Honour's Project Course"
   ]
  },
  {
   "cell_type": "code",
   "execution_count": 1,
   "id": "695a588a",
   "metadata": {},
   "outputs": [],
   "source": [
    "import pandas as pd\n",
    "import numpy as np\n",
    "import tensorflow as tf\n",
    "from tensorflow.estimator import DNNClassifier\n",
    "from sklearn.model_selection import train_test_split\n",
    "from sklearn import preprocessing\n",
    "from sklearn import linear_model \n",
    "from sklearn.linear_model import LogisticRegression\n",
    "from sklearn.ensemble import RandomForestClassifier\n",
    "from sklearn import svm\n",
    "from sklearn.metrics import classification_report, confusion_matrix, accuracy_score\n",
    "import sklearn\n",
    "from matplotlib import pyplot as plt\n",
    "import seaborn as sns\n",
    "\n",
    "#from sklearn import datasets\n",
    "from sklearn.preprocessing import MinMaxScaler\n",
    "from tensorflow import keras\n",
    "from keras.models import Sequential\n",
    "from keras.layers import Dense\n",
    "from sklearn.preprocessing import LabelBinarizer\n",
    "from keras.wrappers.scikit_learn import KerasClassifier\n",
    "from sklearn.model_selection import KFold\n",
    "from sklearn.model_selection import cross_val_score"
   ]
  },
  {
   "cell_type": "code",
   "execution_count": 2,
   "id": "d0779fd7",
   "metadata": {},
   "outputs": [],
   "source": [
    "f = \"merged_HG00129.txt\""
   ]
  },
  {
   "cell_type": "code",
   "execution_count": 3,
   "id": "47e1e856",
   "metadata": {},
   "outputs": [
    {
     "data": {
      "text/html": [
       "<div>\n",
       "<style scoped>\n",
       "    .dataframe tbody tr th:only-of-type {\n",
       "        vertical-align: middle;\n",
       "    }\n",
       "\n",
       "    .dataframe tbody tr th {\n",
       "        vertical-align: top;\n",
       "    }\n",
       "\n",
       "    .dataframe thead th {\n",
       "        text-align: right;\n",
       "    }\n",
       "</style>\n",
       "<table border=\"1\" class=\"dataframe\">\n",
       "  <thead>\n",
       "    <tr style=\"text-align: right;\">\n",
       "      <th></th>\n",
       "      <th>0</th>\n",
       "    </tr>\n",
       "  </thead>\n",
       "  <tbody>\n",
       "    <tr>\n",
       "      <th>0</th>\n",
       "      <td>chr10:102885491-102885839/ 120 4 124 chr10:102...</td>\n",
       "    </tr>\n",
       "    <tr>\n",
       "      <th>1</th>\n",
       "      <td>chr10:103337767-103338096/ 124 22 146 chr10:10...</td>\n",
       "    </tr>\n",
       "    <tr>\n",
       "      <th>2</th>\n",
       "      <td>chr10:10451447-10451779/ 20 80 100 chr10:10451...</td>\n",
       "    </tr>\n",
       "    <tr>\n",
       "      <th>3</th>\n",
       "      <td>chr10:105917786-105918126/ 82 32 114 chr10:105...</td>\n",
       "    </tr>\n",
       "    <tr>\n",
       "      <th>4</th>\n",
       "      <td>chr10:10666573-10666897/ 38 70 108 chr10:10666...</td>\n",
       "    </tr>\n",
       "    <tr>\n",
       "      <th>...</th>\n",
       "      <td>...</td>\n",
       "    </tr>\n",
       "    <tr>\n",
       "      <th>1832</th>\n",
       "      <td>chrX:88488057-88488366/ 16 40 56 chrX:88488072...</td>\n",
       "    </tr>\n",
       "    <tr>\n",
       "      <th>1833</th>\n",
       "      <td>chrX:94309970-94310312/ 66 4 70 chrX:94309987 0/0</td>\n",
       "    </tr>\n",
       "    <tr>\n",
       "      <th>1834</th>\n",
       "      <td>chrX:96751638-96751966/ 40 12 52 chrX:96751651...</td>\n",
       "    </tr>\n",
       "    <tr>\n",
       "      <th>1835</th>\n",
       "      <td>chrX:96939661-96939977/ 46 0 46 chrX:96939674 0/0</td>\n",
       "    </tr>\n",
       "    <tr>\n",
       "      <th>1836</th>\n",
       "      <td>chrX:98762283-98762599/ 80 8 88 chrX:98762292 0/0</td>\n",
       "    </tr>\n",
       "  </tbody>\n",
       "</table>\n",
       "<p>1837 rows × 1 columns</p>\n",
       "</div>"
      ],
      "text/plain": [
       "                                                      0\n",
       "0     chr10:102885491-102885839/ 120 4 124 chr10:102...\n",
       "1     chr10:103337767-103338096/ 124 22 146 chr10:10...\n",
       "2     chr10:10451447-10451779/ 20 80 100 chr10:10451...\n",
       "3     chr10:105917786-105918126/ 82 32 114 chr10:105...\n",
       "4     chr10:10666573-10666897/ 38 70 108 chr10:10666...\n",
       "...                                                 ...\n",
       "1832  chrX:88488057-88488366/ 16 40 56 chrX:88488072...\n",
       "1833  chrX:94309970-94310312/ 66 4 70 chrX:94309987 0/0\n",
       "1834  chrX:96751638-96751966/ 40 12 52 chrX:96751651...\n",
       "1835  chrX:96939661-96939977/ 46 0 46 chrX:96939674 0/0\n",
       "1836  chrX:98762283-98762599/ 80 8 88 chrX:98762292 0/0\n",
       "\n",
       "[1837 rows x 1 columns]"
      ]
     },
     "execution_count": 3,
     "metadata": {},
     "output_type": "execute_result"
    }
   ],
   "source": [
    "df = pd.read_csv(f, header=None)\n",
    "df = df.astype(str)\n",
    "\n",
    "df"
   ]
  },
  {
   "cell_type": "code",
   "execution_count": 4,
   "id": "ab6bb873",
   "metadata": {},
   "outputs": [
    {
     "data": {
      "text/html": [
       "<div>\n",
       "<style scoped>\n",
       "    .dataframe tbody tr th:only-of-type {\n",
       "        vertical-align: middle;\n",
       "    }\n",
       "\n",
       "    .dataframe tbody tr th {\n",
       "        vertical-align: top;\n",
       "    }\n",
       "\n",
       "    .dataframe thead th {\n",
       "        text-align: right;\n",
       "    }\n",
       "</style>\n",
       "<table border=\"1\" class=\"dataframe\">\n",
       "  <thead>\n",
       "    <tr style=\"text-align: right;\">\n",
       "      <th></th>\n",
       "      <th>0</th>\n",
       "      <th>1</th>\n",
       "      <th>2</th>\n",
       "      <th>3</th>\n",
       "      <th>4</th>\n",
       "      <th>5</th>\n",
       "    </tr>\n",
       "  </thead>\n",
       "  <tbody>\n",
       "    <tr>\n",
       "      <th>0</th>\n",
       "      <td>chr10:102885491-102885839/</td>\n",
       "      <td>120</td>\n",
       "      <td>4</td>\n",
       "      <td>124</td>\n",
       "      <td>chr10:102885500</td>\n",
       "      <td>0/0</td>\n",
       "    </tr>\n",
       "    <tr>\n",
       "      <th>1</th>\n",
       "      <td>chr10:103337767-103338096/</td>\n",
       "      <td>124</td>\n",
       "      <td>22</td>\n",
       "      <td>146</td>\n",
       "      <td>chr10:103337782</td>\n",
       "      <td>0/0</td>\n",
       "    </tr>\n",
       "    <tr>\n",
       "      <th>2</th>\n",
       "      <td>chr10:10451447-10451779/</td>\n",
       "      <td>20</td>\n",
       "      <td>80</td>\n",
       "      <td>100</td>\n",
       "      <td>chr10:10451456</td>\n",
       "      <td>1/1</td>\n",
       "    </tr>\n",
       "    <tr>\n",
       "      <th>3</th>\n",
       "      <td>chr10:105917786-105918126/</td>\n",
       "      <td>82</td>\n",
       "      <td>32</td>\n",
       "      <td>114</td>\n",
       "      <td>chr10:105917801</td>\n",
       "      <td>0/1</td>\n",
       "    </tr>\n",
       "    <tr>\n",
       "      <th>4</th>\n",
       "      <td>chr10:10666573-10666897/</td>\n",
       "      <td>38</td>\n",
       "      <td>70</td>\n",
       "      <td>108</td>\n",
       "      <td>chr10:10666580</td>\n",
       "      <td>1/1</td>\n",
       "    </tr>\n",
       "    <tr>\n",
       "      <th>...</th>\n",
       "      <td>...</td>\n",
       "      <td>...</td>\n",
       "      <td>...</td>\n",
       "      <td>...</td>\n",
       "      <td>...</td>\n",
       "      <td>...</td>\n",
       "    </tr>\n",
       "    <tr>\n",
       "      <th>1832</th>\n",
       "      <td>chrX:88488057-88488366/</td>\n",
       "      <td>16</td>\n",
       "      <td>40</td>\n",
       "      <td>56</td>\n",
       "      <td>chrX:88488072</td>\n",
       "      <td>0/1</td>\n",
       "    </tr>\n",
       "    <tr>\n",
       "      <th>1833</th>\n",
       "      <td>chrX:94309970-94310312/</td>\n",
       "      <td>66</td>\n",
       "      <td>4</td>\n",
       "      <td>70</td>\n",
       "      <td>chrX:94309987</td>\n",
       "      <td>0/0</td>\n",
       "    </tr>\n",
       "    <tr>\n",
       "      <th>1834</th>\n",
       "      <td>chrX:96751638-96751966/</td>\n",
       "      <td>40</td>\n",
       "      <td>12</td>\n",
       "      <td>52</td>\n",
       "      <td>chrX:96751651</td>\n",
       "      <td>0/0</td>\n",
       "    </tr>\n",
       "    <tr>\n",
       "      <th>1835</th>\n",
       "      <td>chrX:96939661-96939977/</td>\n",
       "      <td>46</td>\n",
       "      <td>0</td>\n",
       "      <td>46</td>\n",
       "      <td>chrX:96939674</td>\n",
       "      <td>0/0</td>\n",
       "    </tr>\n",
       "    <tr>\n",
       "      <th>1836</th>\n",
       "      <td>chrX:98762283-98762599/</td>\n",
       "      <td>80</td>\n",
       "      <td>8</td>\n",
       "      <td>88</td>\n",
       "      <td>chrX:98762292</td>\n",
       "      <td>0/0</td>\n",
       "    </tr>\n",
       "  </tbody>\n",
       "</table>\n",
       "<p>1837 rows × 6 columns</p>\n",
       "</div>"
      ],
      "text/plain": [
       "                               0    1   2    3                4    5\n",
       "0     chr10:102885491-102885839/  120   4  124  chr10:102885500  0/0\n",
       "1     chr10:103337767-103338096/  124  22  146  chr10:103337782  0/0\n",
       "2       chr10:10451447-10451779/   20  80  100   chr10:10451456  1/1\n",
       "3     chr10:105917786-105918126/   82  32  114  chr10:105917801  0/1\n",
       "4       chr10:10666573-10666897/   38  70  108   chr10:10666580  1/1\n",
       "...                          ...  ...  ..  ...              ...  ...\n",
       "1832     chrX:88488057-88488366/   16  40   56    chrX:88488072  0/1\n",
       "1833     chrX:94309970-94310312/   66   4   70    chrX:94309987  0/0\n",
       "1834     chrX:96751638-96751966/   40  12   52    chrX:96751651  0/0\n",
       "1835     chrX:96939661-96939977/   46   0   46    chrX:96939674  0/0\n",
       "1836     chrX:98762283-98762599/   80   8   88    chrX:98762292  0/0\n",
       "\n",
       "[1837 rows x 6 columns]"
      ]
     },
     "execution_count": 4,
     "metadata": {},
     "output_type": "execute_result"
    }
   ],
   "source": [
    "# split column into multiple columns by delimiter \n",
    "df = df[0].str.split(' ', expand=True)\n",
    "df"
   ]
  },
  {
   "cell_type": "code",
   "execution_count": 5,
   "id": "284acbe3",
   "metadata": {
    "scrolled": true
   },
   "outputs": [],
   "source": [
    "# locus = dir_name\n",
    "df.columns = [\"locus1\", \"f2_count_REF\", \"f2_count_ALT\", \"f2_count\", \"locus2\", \"genotype\"]"
   ]
  },
  {
   "cell_type": "code",
   "execution_count": 6,
   "id": "91d8eb1d",
   "metadata": {},
   "outputs": [
    {
     "data": {
      "text/html": [
       "<div>\n",
       "<style scoped>\n",
       "    .dataframe tbody tr th:only-of-type {\n",
       "        vertical-align: middle;\n",
       "    }\n",
       "\n",
       "    .dataframe tbody tr th {\n",
       "        vertical-align: top;\n",
       "    }\n",
       "\n",
       "    .dataframe thead th {\n",
       "        text-align: right;\n",
       "    }\n",
       "</style>\n",
       "<table border=\"1\" class=\"dataframe\">\n",
       "  <thead>\n",
       "    <tr style=\"text-align: right;\">\n",
       "      <th></th>\n",
       "      <th>locus1</th>\n",
       "      <th>f2_count_REF</th>\n",
       "      <th>f2_count_ALT</th>\n",
       "      <th>f2_count</th>\n",
       "      <th>locus2</th>\n",
       "      <th>genotype</th>\n",
       "    </tr>\n",
       "  </thead>\n",
       "  <tbody>\n",
       "    <tr>\n",
       "      <th>0</th>\n",
       "      <td>chr10:102885491-102885839/</td>\n",
       "      <td>120</td>\n",
       "      <td>4</td>\n",
       "      <td>124</td>\n",
       "      <td>chr10:102885500</td>\n",
       "      <td>0/0</td>\n",
       "    </tr>\n",
       "    <tr>\n",
       "      <th>1</th>\n",
       "      <td>chr10:103337767-103338096/</td>\n",
       "      <td>124</td>\n",
       "      <td>22</td>\n",
       "      <td>146</td>\n",
       "      <td>chr10:103337782</td>\n",
       "      <td>0/0</td>\n",
       "    </tr>\n",
       "    <tr>\n",
       "      <th>2</th>\n",
       "      <td>chr10:10451447-10451779/</td>\n",
       "      <td>20</td>\n",
       "      <td>80</td>\n",
       "      <td>100</td>\n",
       "      <td>chr10:10451456</td>\n",
       "      <td>1/1</td>\n",
       "    </tr>\n",
       "    <tr>\n",
       "      <th>3</th>\n",
       "      <td>chr10:105917786-105918126/</td>\n",
       "      <td>82</td>\n",
       "      <td>32</td>\n",
       "      <td>114</td>\n",
       "      <td>chr10:105917801</td>\n",
       "      <td>0/1</td>\n",
       "    </tr>\n",
       "    <tr>\n",
       "      <th>4</th>\n",
       "      <td>chr10:10666573-10666897/</td>\n",
       "      <td>38</td>\n",
       "      <td>70</td>\n",
       "      <td>108</td>\n",
       "      <td>chr10:10666580</td>\n",
       "      <td>1/1</td>\n",
       "    </tr>\n",
       "    <tr>\n",
       "      <th>...</th>\n",
       "      <td>...</td>\n",
       "      <td>...</td>\n",
       "      <td>...</td>\n",
       "      <td>...</td>\n",
       "      <td>...</td>\n",
       "      <td>...</td>\n",
       "    </tr>\n",
       "    <tr>\n",
       "      <th>1832</th>\n",
       "      <td>chrX:88488057-88488366/</td>\n",
       "      <td>16</td>\n",
       "      <td>40</td>\n",
       "      <td>56</td>\n",
       "      <td>chrX:88488072</td>\n",
       "      <td>0/1</td>\n",
       "    </tr>\n",
       "    <tr>\n",
       "      <th>1833</th>\n",
       "      <td>chrX:94309970-94310312/</td>\n",
       "      <td>66</td>\n",
       "      <td>4</td>\n",
       "      <td>70</td>\n",
       "      <td>chrX:94309987</td>\n",
       "      <td>0/0</td>\n",
       "    </tr>\n",
       "    <tr>\n",
       "      <th>1834</th>\n",
       "      <td>chrX:96751638-96751966/</td>\n",
       "      <td>40</td>\n",
       "      <td>12</td>\n",
       "      <td>52</td>\n",
       "      <td>chrX:96751651</td>\n",
       "      <td>0/0</td>\n",
       "    </tr>\n",
       "    <tr>\n",
       "      <th>1835</th>\n",
       "      <td>chrX:96939661-96939977/</td>\n",
       "      <td>46</td>\n",
       "      <td>0</td>\n",
       "      <td>46</td>\n",
       "      <td>chrX:96939674</td>\n",
       "      <td>0/0</td>\n",
       "    </tr>\n",
       "    <tr>\n",
       "      <th>1836</th>\n",
       "      <td>chrX:98762283-98762599/</td>\n",
       "      <td>80</td>\n",
       "      <td>8</td>\n",
       "      <td>88</td>\n",
       "      <td>chrX:98762292</td>\n",
       "      <td>0/0</td>\n",
       "    </tr>\n",
       "  </tbody>\n",
       "</table>\n",
       "<p>1837 rows × 6 columns</p>\n",
       "</div>"
      ],
      "text/plain": [
       "                          locus1  f2_count_REF  f2_count_ALT  f2_count  \\\n",
       "0     chr10:102885491-102885839/           120             4       124   \n",
       "1     chr10:103337767-103338096/           124            22       146   \n",
       "2       chr10:10451447-10451779/            20            80       100   \n",
       "3     chr10:105917786-105918126/            82            32       114   \n",
       "4       chr10:10666573-10666897/            38            70       108   \n",
       "...                          ...           ...           ...       ...   \n",
       "1832     chrX:88488057-88488366/            16            40        56   \n",
       "1833     chrX:94309970-94310312/            66             4        70   \n",
       "1834     chrX:96751638-96751966/            40            12        52   \n",
       "1835     chrX:96939661-96939977/            46             0        46   \n",
       "1836     chrX:98762283-98762599/            80             8        88   \n",
       "\n",
       "               locus2 genotype  \n",
       "0     chr10:102885500      0/0  \n",
       "1     chr10:103337782      0/0  \n",
       "2      chr10:10451456      1/1  \n",
       "3     chr10:105917801      0/1  \n",
       "4      chr10:10666580      1/1  \n",
       "...               ...      ...  \n",
       "1832    chrX:88488072      0/1  \n",
       "1833    chrX:94309987      0/0  \n",
       "1834    chrX:96751651      0/0  \n",
       "1835    chrX:96939674      0/0  \n",
       "1836    chrX:98762292      0/0  \n",
       "\n",
       "[1837 rows x 6 columns]"
      ]
     },
     "execution_count": 6,
     "metadata": {},
     "output_type": "execute_result"
    }
   ],
   "source": [
    "dict_type_convert = {\"f2_count_REF\": int, \"f2_count_ALT\": int, \"f2_count\": int}\n",
    "df = df.astype(dict_type_convert)\n",
    "df"
   ]
  },
  {
   "cell_type": "code",
   "execution_count": 7,
   "id": "540da858",
   "metadata": {},
   "outputs": [
    {
     "data": {
      "text/plain": [
       "genotype\n",
       "./.    103.333333\n",
       "0/0    121.331887\n",
       "0/1     67.265823\n",
       "1/1     33.698630\n",
       "Name: f2_count_REF, dtype: float64"
      ]
     },
     "execution_count": 7,
     "metadata": {},
     "output_type": "execute_result"
    }
   ],
   "source": [
    "df.groupby(by=\"genotype\")[\"f2_count_REF\"].mean()"
   ]
  },
  {
   "cell_type": "code",
   "execution_count": 8,
   "id": "e8fbef61",
   "metadata": {},
   "outputs": [
    {
     "data": {
      "text/html": [
       "<div>\n",
       "<style scoped>\n",
       "    .dataframe tbody tr th:only-of-type {\n",
       "        vertical-align: middle;\n",
       "    }\n",
       "\n",
       "    .dataframe tbody tr th {\n",
       "        vertical-align: top;\n",
       "    }\n",
       "\n",
       "    .dataframe thead th {\n",
       "        text-align: right;\n",
       "    }\n",
       "</style>\n",
       "<table border=\"1\" class=\"dataframe\">\n",
       "  <thead>\n",
       "    <tr style=\"text-align: right;\">\n",
       "      <th></th>\n",
       "      <th>locus1</th>\n",
       "      <th>f2_count_REF</th>\n",
       "      <th>f2_count_ALT</th>\n",
       "      <th>f2_count</th>\n",
       "      <th>locus2</th>\n",
       "      <th>genotype</th>\n",
       "    </tr>\n",
       "  </thead>\n",
       "  <tbody>\n",
       "    <tr>\n",
       "      <th>0</th>\n",
       "      <td>chr10:102885491-102885839/</td>\n",
       "      <td>120</td>\n",
       "      <td>4</td>\n",
       "      <td>124</td>\n",
       "      <td>chr10:102885500</td>\n",
       "      <td>0</td>\n",
       "    </tr>\n",
       "    <tr>\n",
       "      <th>1</th>\n",
       "      <td>chr10:103337767-103338096/</td>\n",
       "      <td>124</td>\n",
       "      <td>22</td>\n",
       "      <td>146</td>\n",
       "      <td>chr10:103337782</td>\n",
       "      <td>0</td>\n",
       "    </tr>\n",
       "    <tr>\n",
       "      <th>2</th>\n",
       "      <td>chr10:10451447-10451779/</td>\n",
       "      <td>20</td>\n",
       "      <td>80</td>\n",
       "      <td>100</td>\n",
       "      <td>chr10:10451456</td>\n",
       "      <td>2</td>\n",
       "    </tr>\n",
       "    <tr>\n",
       "      <th>3</th>\n",
       "      <td>chr10:105917786-105918126/</td>\n",
       "      <td>82</td>\n",
       "      <td>32</td>\n",
       "      <td>114</td>\n",
       "      <td>chr10:105917801</td>\n",
       "      <td>1</td>\n",
       "    </tr>\n",
       "    <tr>\n",
       "      <th>4</th>\n",
       "      <td>chr10:10666573-10666897/</td>\n",
       "      <td>38</td>\n",
       "      <td>70</td>\n",
       "      <td>108</td>\n",
       "      <td>chr10:10666580</td>\n",
       "      <td>2</td>\n",
       "    </tr>\n",
       "    <tr>\n",
       "      <th>...</th>\n",
       "      <td>...</td>\n",
       "      <td>...</td>\n",
       "      <td>...</td>\n",
       "      <td>...</td>\n",
       "      <td>...</td>\n",
       "      <td>...</td>\n",
       "    </tr>\n",
       "    <tr>\n",
       "      <th>1832</th>\n",
       "      <td>chrX:88488057-88488366/</td>\n",
       "      <td>16</td>\n",
       "      <td>40</td>\n",
       "      <td>56</td>\n",
       "      <td>chrX:88488072</td>\n",
       "      <td>1</td>\n",
       "    </tr>\n",
       "    <tr>\n",
       "      <th>1833</th>\n",
       "      <td>chrX:94309970-94310312/</td>\n",
       "      <td>66</td>\n",
       "      <td>4</td>\n",
       "      <td>70</td>\n",
       "      <td>chrX:94309987</td>\n",
       "      <td>0</td>\n",
       "    </tr>\n",
       "    <tr>\n",
       "      <th>1834</th>\n",
       "      <td>chrX:96751638-96751966/</td>\n",
       "      <td>40</td>\n",
       "      <td>12</td>\n",
       "      <td>52</td>\n",
       "      <td>chrX:96751651</td>\n",
       "      <td>0</td>\n",
       "    </tr>\n",
       "    <tr>\n",
       "      <th>1835</th>\n",
       "      <td>chrX:96939661-96939977/</td>\n",
       "      <td>46</td>\n",
       "      <td>0</td>\n",
       "      <td>46</td>\n",
       "      <td>chrX:96939674</td>\n",
       "      <td>0</td>\n",
       "    </tr>\n",
       "    <tr>\n",
       "      <th>1836</th>\n",
       "      <td>chrX:98762283-98762599/</td>\n",
       "      <td>80</td>\n",
       "      <td>8</td>\n",
       "      <td>88</td>\n",
       "      <td>chrX:98762292</td>\n",
       "      <td>0</td>\n",
       "    </tr>\n",
       "  </tbody>\n",
       "</table>\n",
       "<p>1837 rows × 6 columns</p>\n",
       "</div>"
      ],
      "text/plain": [
       "                          locus1  f2_count_REF  f2_count_ALT  f2_count  \\\n",
       "0     chr10:102885491-102885839/           120             4       124   \n",
       "1     chr10:103337767-103338096/           124            22       146   \n",
       "2       chr10:10451447-10451779/            20            80       100   \n",
       "3     chr10:105917786-105918126/            82            32       114   \n",
       "4       chr10:10666573-10666897/            38            70       108   \n",
       "...                          ...           ...           ...       ...   \n",
       "1832     chrX:88488057-88488366/            16            40        56   \n",
       "1833     chrX:94309970-94310312/            66             4        70   \n",
       "1834     chrX:96751638-96751966/            40            12        52   \n",
       "1835     chrX:96939661-96939977/            46             0        46   \n",
       "1836     chrX:98762283-98762599/            80             8        88   \n",
       "\n",
       "               locus2  genotype  \n",
       "0     chr10:102885500         0  \n",
       "1     chr10:103337782         0  \n",
       "2      chr10:10451456         2  \n",
       "3     chr10:105917801         1  \n",
       "4      chr10:10666580         2  \n",
       "...               ...       ...  \n",
       "1832    chrX:88488072         1  \n",
       "1833    chrX:94309987         0  \n",
       "1834    chrX:96751651         0  \n",
       "1835    chrX:96939674         0  \n",
       "1836    chrX:98762292         0  \n",
       "\n",
       "[1837 rows x 6 columns]"
      ]
     },
     "execution_count": 8,
     "metadata": {},
     "output_type": "execute_result"
    }
   ],
   "source": [
    "df[\"genotype\"] = df[\"genotype\"].map({\"0/0\":0,\n",
    "                             \"0/1\":1,\n",
    "                             \"1/1\":2,\n",
    "                             \"./.\":3,\n",
    "                             np.nan:4},\n",
    "                             na_action=None)\n",
    "df"
   ]
  },
  {
   "cell_type": "code",
   "execution_count": 9,
   "id": "29be87e8",
   "metadata": {},
   "outputs": [
    {
     "name": "stdout",
     "output_type": "stream",
     "text": [
      "<class 'pandas.core.frame.DataFrame'>\n",
      "RangeIndex: 1837 entries, 0 to 1836\n",
      "Data columns (total 6 columns):\n",
      " #   Column        Non-Null Count  Dtype \n",
      "---  ------        --------------  ----- \n",
      " 0   locus1        1837 non-null   object\n",
      " 1   f2_count_REF  1837 non-null   int32 \n",
      " 2   f2_count_ALT  1837 non-null   int32 \n",
      " 3   f2_count      1837 non-null   int32 \n",
      " 4   locus2        1837 non-null   object\n",
      " 5   genotype      1837 non-null   int64 \n",
      "dtypes: int32(3), int64(1), object(2)\n",
      "memory usage: 64.7+ KB\n"
     ]
    }
   ],
   "source": [
    "df.info()\n",
    "#df = df[\"genotype\"].astype(int)"
   ]
  },
  {
   "cell_type": "code",
   "execution_count": 10,
   "id": "8689000a",
   "metadata": {},
   "outputs": [
    {
     "data": {
      "text/plain": [
       "array([[120,   4, 124],\n",
       "       [124,  22, 146],\n",
       "       [ 20,  80, 100],\n",
       "       ...,\n",
       "       [ 40,  12,  52],\n",
       "       [ 46,   0,  46],\n",
       "       [ 80,   8,  88]])"
      ]
     },
     "execution_count": 10,
     "metadata": {},
     "output_type": "execute_result"
    }
   ],
   "source": [
    "y = df[\"genotype\"].to_numpy()\n",
    "X = df.iloc[:, 1:4].to_numpy()\n",
    "X"
   ]
  },
  {
   "cell_type": "markdown",
   "id": "91dde908",
   "metadata": {},
   "source": [
    "### A function for plotting the importance of features"
   ]
  },
  {
   "cell_type": "code",
   "execution_count": 11,
   "id": "900449ec",
   "metadata": {},
   "outputs": [],
   "source": [
    "features_names = [\"Reads mapped in proper pair on the REF\", \"Reads mapped in proper pair on the ALT\" ,\"Reads mapped in proper pair\"]\n",
    "def feature_importances(coef, names):\n",
    "    imp = coef\n",
    "    imp, names = zip(*sorted(zip(imp,names)))\n",
    "    plt.barh(range(len(names)), imp, align='center')\n",
    "    plt.yticks(range(len(names)), names)\n",
    "    plt.show()"
   ]
  },
  {
   "cell_type": "markdown",
   "id": "8fda2dc8",
   "metadata": {},
   "source": [
    "## Logistic regression"
   ]
  },
  {
   "cell_type": "code",
   "execution_count": 12,
   "id": "078268f0",
   "metadata": {},
   "outputs": [
    {
     "data": {
      "text/plain": [
       "array([[ 86,  18, 104],\n",
       "       [148,  22, 170],\n",
       "       [ 26, 100, 126],\n",
       "       ...,\n",
       "       [ 24,  84, 108],\n",
       "       [134,  14, 148],\n",
       "       [162,  16, 178]])"
      ]
     },
     "execution_count": 12,
     "metadata": {},
     "output_type": "execute_result"
    }
   ],
   "source": [
    "X_train, X_test, y_train, y_test = train_test_split(\n",
    "                        X, y, test_size=0.2)\n",
    "X_train"
   ]
  },
  {
   "cell_type": "code",
   "execution_count": 13,
   "id": "bb4fd181",
   "metadata": {},
   "outputs": [],
   "source": [
    "# To generate the same test set every time, set \"random_state=42\"\n",
    "# Normalizing data\n",
    "mean = X_train.mean()\n",
    "std = X_train.std()\n",
    "X_train = (X_train - mean) / std\n",
    "X_test = (X_test - mean) / std"
   ]
  },
  {
   "cell_type": "code",
   "execution_count": 14,
   "id": "c8c30169",
   "metadata": {},
   "outputs": [],
   "source": [
    "clf_logi = LogisticRegression(penalty=\"l2\", random_state=0).fit(X_train, y_train)\n",
    "y_pred = clf_logi.predict(X_test)"
   ]
  },
  {
   "cell_type": "code",
   "execution_count": 15,
   "id": "01f84041",
   "metadata": {},
   "outputs": [
    {
     "name": "stdout",
     "output_type": "stream",
     "text": [
      "[[179   7   0   0]\n",
      " [  5  86   8   0]\n",
      " [  0  10  72   0]\n",
      " [  1   0   0   0]]\n",
      "              precision    recall  f1-score   support\n",
      "\n",
      "           0       0.97      0.96      0.96       186\n",
      "           1       0.83      0.87      0.85        99\n",
      "           2       0.90      0.88      0.89        82\n",
      "           3       0.00      0.00      0.00         1\n",
      "\n",
      "    accuracy                           0.92       368\n",
      "   macro avg       0.68      0.68      0.68       368\n",
      "weighted avg       0.91      0.92      0.91       368\n",
      "\n",
      "0.9157608695652174\n"
     ]
    },
    {
     "name": "stderr",
     "output_type": "stream",
     "text": [
      "C:\\Users\\Yumika\\anaconda3-2\\lib\\site-packages\\sklearn\\metrics\\_classification.py:1245: UndefinedMetricWarning: Precision and F-score are ill-defined and being set to 0.0 in labels with no predicted samples. Use `zero_division` parameter to control this behavior.\n",
      "  _warn_prf(average, modifier, msg_start, len(result))\n",
      "C:\\Users\\Yumika\\anaconda3-2\\lib\\site-packages\\sklearn\\metrics\\_classification.py:1245: UndefinedMetricWarning: Precision and F-score are ill-defined and being set to 0.0 in labels with no predicted samples. Use `zero_division` parameter to control this behavior.\n",
      "  _warn_prf(average, modifier, msg_start, len(result))\n",
      "C:\\Users\\Yumika\\anaconda3-2\\lib\\site-packages\\sklearn\\metrics\\_classification.py:1245: UndefinedMetricWarning: Precision and F-score are ill-defined and being set to 0.0 in labels with no predicted samples. Use `zero_division` parameter to control this behavior.\n",
      "  _warn_prf(average, modifier, msg_start, len(result))\n"
     ]
    }
   ],
   "source": [
    "print(confusion_matrix(y_test,y_pred))\n",
    "print(classification_report(y_test,y_pred))\n",
    "print(accuracy_score(y_test, y_pred))"
   ]
  },
  {
   "cell_type": "code",
   "execution_count": 16,
   "id": "1aceef91",
   "metadata": {},
   "outputs": [
    {
     "name": "stdout",
     "output_type": "stream",
     "text": [
      "[[ 4.33006476 -6.31528363 -1.97887582]\n",
      " [-1.00020872  1.13881883  0.13636591]\n",
      " [-3.54908374  3.99132559  0.43923045]\n",
      " [ 0.2192277   1.1851392   1.40327946]]\n"
     ]
    },
    {
     "data": {
      "image/png": "[encoded data removed]",
      "text/plain": [
       "<Figure size 432x288 with 1 Axes>"
      ]
     },
     "metadata": {
      "needs_background": "light"
     },
     "output_type": "display_data"
    }
   ],
   "source": [
    "print(clf_logi.coef_)\n",
    "feature_importances(clf_logi.coef_[0], features_names)"
   ]
  },
  {
   "cell_type": "code",
   "execution_count": 17,
   "id": "21823c1b",
   "metadata": {},
   "outputs": [
    {
     "name": "stderr",
     "output_type": "stream",
     "text": [
      "C:\\Users\\Yumika\\anaconda3-2\\lib\\site-packages\\sklearn\\model_selection\\_split.py:666: UserWarning: The least populated class in y has only 2 members, which is less than n_splits=5.\n",
      "  warnings.warn((\"The least populated class in y has only %d\"\n"
     ]
    },
    {
     "name": "stdout",
     "output_type": "stream",
     "text": [
      "0.9183209119825404\n"
     ]
    }
   ],
   "source": [
    "# 5-fold cross-validation\n",
    "scores_logi = cross_val_score(clf_logi, X_train, y_train, cv=5)\n",
    "print(scores_logi.mean())"
   ]
  },
  {
   "cell_type": "markdown",
   "id": "fa353828",
   "metadata": {},
   "source": [
    "## Random Forest"
   ]
  },
  {
   "cell_type": "code",
   "execution_count": 18,
   "id": "c2531878",
   "metadata": {},
   "outputs": [],
   "source": [
    "X_train, X_test, y_train, y_test = train_test_split(\n",
    "                        X, y, test_size=0.2)\n",
    "# To generate the same test set every time, set \"random_state=42\"\n",
    "# Normalizing data\n",
    "mean = X_train.mean()\n",
    "std = X_train.std()\n",
    "X_train = (X_train - mean) / std\n",
    "X_test = (X_test - mean) / std"
   ]
  },
  {
   "cell_type": "code",
   "execution_count": 19,
   "id": "3ea08170",
   "metadata": {},
   "outputs": [],
   "source": [
    "clf_rf = RandomForestClassifier(n_estimators=20, random_state=0)\n",
    "clf_rf.fit(X_train, y_train)\n",
    "y_pred = clf_rf.predict(X_test)"
   ]
  },
  {
   "cell_type": "code",
   "execution_count": 20,
   "id": "cef80288",
   "metadata": {},
   "outputs": [
    {
     "name": "stdout",
     "output_type": "stream",
     "text": [
      "[[182   1   1]\n",
      " [  5  69  14]\n",
      " [  1  19  76]]\n",
      "              precision    recall  f1-score   support\n",
      "\n",
      "           0       0.97      0.99      0.98       184\n",
      "           1       0.78      0.78      0.78        88\n",
      "           2       0.84      0.79      0.81        96\n",
      "\n",
      "    accuracy                           0.89       368\n",
      "   macro avg       0.86      0.85      0.86       368\n",
      "weighted avg       0.89      0.89      0.89       368\n",
      "\n",
      "0.8885869565217391\n"
     ]
    }
   ],
   "source": [
    "print(confusion_matrix(y_test,y_pred))\n",
    "print(classification_report(y_test,y_pred))\n",
    "print(accuracy_score(y_test, y_pred))"
   ]
  },
  {
   "cell_type": "code",
   "execution_count": 21,
   "id": "bf5fd21f",
   "metadata": {},
   "outputs": [
    {
     "name": "stdout",
     "output_type": "stream",
     "text": [
      "0.8985674816001484\n"
     ]
    },
    {
     "name": "stderr",
     "output_type": "stream",
     "text": [
      "C:\\Users\\Yumika\\anaconda3-2\\lib\\site-packages\\sklearn\\model_selection\\_split.py:666: UserWarning: The least populated class in y has only 3 members, which is less than n_splits=5.\n",
      "  warnings.warn((\"The least populated class in y has only %d\"\n"
     ]
    }
   ],
   "source": [
    "# 5-fold cross-validation\n",
    "scores_rf = cross_val_score(clf_rf, X_train, y_train, cv=5)\n",
    "print(scores_rf.mean())"
   ]
  },
  {
   "cell_type": "markdown",
   "id": "cba57bb1",
   "metadata": {},
   "source": [
    "## SVM - Support Vector Machine"
   ]
  },
  {
   "cell_type": "markdown",
   "id": "4cef97ec",
   "metadata": {},
   "source": [
    "### Using linear (with linear boundary) as kernel"
   ]
  },
  {
   "cell_type": "code",
   "execution_count": 22,
   "id": "d21b8c50",
   "metadata": {},
   "outputs": [
    {
     "data": {
      "text/plain": [
       "'pred=model.predict(x_test)\\nModel Evaluation\\n# Importing the classification report and confusion matrix\\n\\nprint(confusion_matrix(y_test,pred))\\n[[17  0  0]\\n [ 0 16  0]\\n [ 0  0 12]]\\nprint(classification_report(y_test, pred))'"
      ]
     },
     "execution_count": 22,
     "metadata": {},
     "output_type": "execute_result"
    }
   ],
   "source": [
    "\"\"\"pred=model.predict(x_test)\n",
    "Model Evaluation\n",
    "# Importing the classification report and confusion matrix\n",
    "\n",
    "print(confusion_matrix(y_test,pred))\n",
    "[[17  0  0]\n",
    " [ 0 16  0]\n",
    " [ 0  0 12]]\n",
    "print(classification_report(y_test, pred))\"\"\""
   ]
  },
  {
   "cell_type": "code",
   "execution_count": 23,
   "id": "54cde55e",
   "metadata": {},
   "outputs": [],
   "source": [
    "X_train, X_test, y_train, y_test = train_test_split(\n",
    "                        X, y, test_size=0.2)\n",
    "# To generate the same test set every time, set \"random_state=42\""
   ]
  },
  {
   "cell_type": "code",
   "execution_count": 24,
   "id": "951eb1b9",
   "metadata": {},
   "outputs": [],
   "source": [
    "# Normalizing data\n",
    "mean = X_train.mean()\n",
    "std = X_train.std()\n",
    "X_train = (X_train - mean) / std\n",
    "X_test = (X_test - mean) / std"
   ]
  },
  {
   "cell_type": "code",
   "execution_count": 25,
   "id": "b0607e20",
   "metadata": {},
   "outputs": [
    {
     "name": "stdout",
     "output_type": "stream",
     "text": [
      "0.9189895753523253\n"
     ]
    },
    {
     "name": "stderr",
     "output_type": "stream",
     "text": [
      "C:\\Users\\Yumika\\anaconda3-2\\lib\\site-packages\\sklearn\\model_selection\\_split.py:666: UserWarning: The least populated class in y has only 2 members, which is less than n_splits=5.\n",
      "  warnings.warn((\"The least populated class in y has only %d\"\n"
     ]
    }
   ],
   "source": [
    "clf = svm.SVC(kernel=\"linear\", C=1, max_iter=1000)\n",
    "# 5-fold cross-validation\n",
    "scores = cross_val_score(clf, X_train, y_train, cv=5)\n",
    "print(scores.mean())"
   ]
  },
  {
   "cell_type": "code",
   "execution_count": 26,
   "id": "4be816e4",
   "metadata": {},
   "outputs": [
    {
     "name": "stdout",
     "output_type": "stream",
     "text": [
      "[[ 3.42572209 -4.93536243 -1.50964033]\n",
      " [ 2.3097115  -2.90877303 -0.59906153]\n",
      " [ 0.31393072 -0.68583645 -0.37190573]\n",
      " [ 1.80524702 -2.13555151 -0.3303045 ]\n",
      " [-0.03988188 -0.43870063 -0.4785825 ]\n",
      " [-0.07976375 -0.1595275  -0.23929125]]\n"
     ]
    },
    {
     "data": {
      "image/png": "[encoded data removed]",
      "text/plain": [
       "<Figure size 432x288 with 1 Axes>"
      ]
     },
     "metadata": {
      "needs_background": "light"
     },
     "output_type": "display_data"
    },
    {
     "data": {
      "text/plain": [
       "array([2, 1, 0, 0, 1, 0, 0, 0, 2, 0, 2, 0, 0, 2, 1, 0, 2, 1, 0, 2, 0, 0,\n",
       "       1, 0, 0, 2, 0, 2, 0, 1, 2, 2, 1, 1, 1, 1, 1, 2, 2, 0, 2, 0, 1, 1,\n",
       "       0, 0, 1, 1, 0, 0, 2, 0, 2, 0, 0, 0, 1, 0, 0, 1, 0, 0, 0, 2, 1, 1,\n",
       "       2, 2, 1, 0, 2, 2, 0, 1, 2, 0, 0, 0, 2, 2, 1, 2, 0, 1, 0, 1, 0, 0,\n",
       "       0, 0, 2, 2, 0, 1, 0, 0, 0, 1, 1, 0, 0, 2, 0, 2, 1, 2, 0, 0, 0, 0,\n",
       "       2, 0, 0, 1, 2, 0, 2, 2, 2, 2, 0, 1, 1, 0, 1, 0, 1, 2, 0, 2, 1, 0,\n",
       "       1, 1, 0, 2, 2, 0, 2, 0, 2, 2, 0, 0, 0, 1, 2, 0, 1, 0, 0, 0, 0, 0,\n",
       "       0, 0, 0, 2, 0, 2, 1, 2, 0, 2, 0, 1, 0, 2, 0, 1, 1, 0, 1, 0, 0, 0,\n",
       "       2, 1, 0, 0, 0, 0, 1, 0, 0, 0, 2, 2, 0, 2, 2, 0, 2, 1, 0, 0, 2, 0,\n",
       "       1, 2, 2, 0, 0, 2, 0, 1, 2, 0, 2, 2, 2, 2, 1, 2, 2, 2, 1, 0, 0, 2,\n",
       "       2, 0, 1, 0, 0, 2, 1, 0, 0, 0, 0, 2, 2, 0, 0, 0, 1, 0, 0, 0, 2, 0,\n",
       "       1, 0, 2, 0, 0, 1, 0, 0, 0, 0, 2, 0, 0, 1, 1, 1, 1, 0, 0, 0, 1, 1,\n",
       "       1, 0, 0, 0, 1, 1, 2, 0, 0, 0, 0, 0, 0, 0, 0, 0, 1, 0, 0, 0, 0, 0,\n",
       "       2, 0, 1, 0, 0, 0, 1, 0, 1, 1, 1, 0, 0, 0, 0, 2, 0, 1, 2, 0, 0, 0,\n",
       "       0, 2, 1, 2, 0, 0, 1, 2, 2, 2, 0, 1, 2, 0, 0, 0, 1, 0, 2, 0, 2, 0,\n",
       "       1, 0, 1, 2, 0, 1, 1, 0, 0, 0, 2, 0, 1, 1, 1, 0, 0, 1, 1, 0, 1, 0,\n",
       "       0, 0, 0, 2, 1, 0, 1, 1, 1, 2, 0, 0, 0, 0, 0, 2], dtype=int64)"
      ]
     },
     "execution_count": 26,
     "metadata": {},
     "output_type": "execute_result"
    }
   ],
   "source": [
    "clf = svm.SVC(kernel=\"linear\", C=1, max_iter=1000)\n",
    "svm_lin = clf.fit(X_train, y_train)\n",
    "print(svm_lin.coef_)\n",
    "feature_importances(svm_lin.coef_[0], features_names)\n",
    "\n",
    "\n",
    "pred_lin = clf.predict(X_test)\n",
    "pred_lin"
   ]
  },
  {
   "cell_type": "code",
   "execution_count": 27,
   "id": "46880e2e",
   "metadata": {},
   "outputs": [
    {
     "name": "stdout",
     "output_type": "stream",
     "text": [
      "[[184   2   0   0]\n",
      " [  3  81  17   0]\n",
      " [  0   6  74   0]\n",
      " [  1   0   0   0]]\n",
      "              precision    recall  f1-score   support\n",
      "\n",
      "           0       0.98      0.99      0.98       186\n",
      "           1       0.91      0.80      0.85       101\n",
      "           2       0.81      0.93      0.87        80\n",
      "           3       0.00      0.00      0.00         1\n",
      "\n",
      "    accuracy                           0.92       368\n",
      "   macro avg       0.68      0.68      0.68       368\n",
      "weighted avg       0.92      0.92      0.92       368\n",
      "\n",
      "0.9211956521739131\n"
     ]
    },
    {
     "name": "stderr",
     "output_type": "stream",
     "text": [
      "C:\\Users\\Yumika\\anaconda3-2\\lib\\site-packages\\sklearn\\metrics\\_classification.py:1245: UndefinedMetricWarning: Precision and F-score are ill-defined and being set to 0.0 in labels with no predicted samples. Use `zero_division` parameter to control this behavior.\n",
      "  _warn_prf(average, modifier, msg_start, len(result))\n",
      "C:\\Users\\Yumika\\anaconda3-2\\lib\\site-packages\\sklearn\\metrics\\_classification.py:1245: UndefinedMetricWarning: Precision and F-score are ill-defined and being set to 0.0 in labels with no predicted samples. Use `zero_division` parameter to control this behavior.\n",
      "  _warn_prf(average, modifier, msg_start, len(result))\n",
      "C:\\Users\\Yumika\\anaconda3-2\\lib\\site-packages\\sklearn\\metrics\\_classification.py:1245: UndefinedMetricWarning: Precision and F-score are ill-defined and being set to 0.0 in labels with no predicted samples. Use `zero_division` parameter to control this behavior.\n",
      "  _warn_prf(average, modifier, msg_start, len(result))\n"
     ]
    }
   ],
   "source": [
    "# Evaluate the model\n",
    "print(confusion_matrix(y_test, pred_lin))\n",
    "print(classification_report(y_test, pred_lin))\n",
    "print(accuracy_score(y_test, pred_lin))"
   ]
  },
  {
   "cell_type": "markdown",
   "id": "c862a716",
   "metadata": {},
   "source": [
    "### Using rbf (with non-linear boundary) as kernel"
   ]
  },
  {
   "cell_type": "code",
   "execution_count": 28,
   "id": "b0648119",
   "metadata": {},
   "outputs": [
    {
     "name": "stdout",
     "output_type": "stream",
     "text": [
      "0.9142276705904205\n"
     ]
    },
    {
     "name": "stderr",
     "output_type": "stream",
     "text": [
      "C:\\Users\\Yumika\\anaconda3-2\\lib\\site-packages\\sklearn\\model_selection\\_split.py:666: UserWarning: The least populated class in y has only 2 members, which is less than n_splits=5.\n",
      "  warnings.warn((\"The least populated class in y has only %d\"\n"
     ]
    }
   ],
   "source": [
    "# Using kernel, rbf\n",
    "clf = svm.SVC(kernel=\"rbf\")\n",
    "#clf.fit(X_train, y_train)\n",
    "scores = cross_val_score(clf, X_train, y_train, cv=5)\n",
    "print(scores.mean())\n",
    "#print('Accuracy of linear SVC on training set: {:.3f}'.format(clf.score(X_train, y_train)))\n",
    "#print('Accuracy of linear SVC on test set: {:.3f}'.format(clf.score(X_test, y_test)))"
   ]
  },
  {
   "cell_type": "markdown",
   "id": "ac145f4b",
   "metadata": {},
   "source": [
    "## DNN - Deep Neural Network"
   ]
  },
  {
   "cell_type": "code",
   "execution_count": 29,
   "id": "10edb9f2",
   "metadata": {},
   "outputs": [
    {
     "data": {
      "text/html": [
       "<div>\n",
       "<style scoped>\n",
       "    .dataframe tbody tr th:only-of-type {\n",
       "        vertical-align: middle;\n",
       "    }\n",
       "\n",
       "    .dataframe tbody tr th {\n",
       "        vertical-align: top;\n",
       "    }\n",
       "\n",
       "    .dataframe thead th {\n",
       "        text-align: right;\n",
       "    }\n",
       "</style>\n",
       "<table border=\"1\" class=\"dataframe\">\n",
       "  <thead>\n",
       "    <tr style=\"text-align: right;\">\n",
       "      <th></th>\n",
       "      <th>f2_count_REF</th>\n",
       "      <th>f2_count_ALT</th>\n",
       "      <th>f2_count</th>\n",
       "    </tr>\n",
       "  </thead>\n",
       "  <tbody>\n",
       "    <tr>\n",
       "      <th>0</th>\n",
       "      <td>120.0</td>\n",
       "      <td>4.0</td>\n",
       "      <td>124.0</td>\n",
       "    </tr>\n",
       "    <tr>\n",
       "      <th>1</th>\n",
       "      <td>124.0</td>\n",
       "      <td>22.0</td>\n",
       "      <td>146.0</td>\n",
       "    </tr>\n",
       "    <tr>\n",
       "      <th>2</th>\n",
       "      <td>20.0</td>\n",
       "      <td>80.0</td>\n",
       "      <td>100.0</td>\n",
       "    </tr>\n",
       "    <tr>\n",
       "      <th>3</th>\n",
       "      <td>82.0</td>\n",
       "      <td>32.0</td>\n",
       "      <td>114.0</td>\n",
       "    </tr>\n",
       "    <tr>\n",
       "      <th>4</th>\n",
       "      <td>38.0</td>\n",
       "      <td>70.0</td>\n",
       "      <td>108.0</td>\n",
       "    </tr>\n",
       "    <tr>\n",
       "      <th>...</th>\n",
       "      <td>...</td>\n",
       "      <td>...</td>\n",
       "      <td>...</td>\n",
       "    </tr>\n",
       "    <tr>\n",
       "      <th>1832</th>\n",
       "      <td>16.0</td>\n",
       "      <td>40.0</td>\n",
       "      <td>56.0</td>\n",
       "    </tr>\n",
       "    <tr>\n",
       "      <th>1833</th>\n",
       "      <td>66.0</td>\n",
       "      <td>4.0</td>\n",
       "      <td>70.0</td>\n",
       "    </tr>\n",
       "    <tr>\n",
       "      <th>1834</th>\n",
       "      <td>40.0</td>\n",
       "      <td>12.0</td>\n",
       "      <td>52.0</td>\n",
       "    </tr>\n",
       "    <tr>\n",
       "      <th>1835</th>\n",
       "      <td>46.0</td>\n",
       "      <td>0.0</td>\n",
       "      <td>46.0</td>\n",
       "    </tr>\n",
       "    <tr>\n",
       "      <th>1836</th>\n",
       "      <td>80.0</td>\n",
       "      <td>8.0</td>\n",
       "      <td>88.0</td>\n",
       "    </tr>\n",
       "  </tbody>\n",
       "</table>\n",
       "<p>1837 rows × 3 columns</p>\n",
       "</div>"
      ],
      "text/plain": [
       "      f2_count_REF  f2_count_ALT  f2_count\n",
       "0            120.0           4.0     124.0\n",
       "1            124.0          22.0     146.0\n",
       "2             20.0          80.0     100.0\n",
       "3             82.0          32.0     114.0\n",
       "4             38.0          70.0     108.0\n",
       "...            ...           ...       ...\n",
       "1832          16.0          40.0      56.0\n",
       "1833          66.0           4.0      70.0\n",
       "1834          40.0          12.0      52.0\n",
       "1835          46.0           0.0      46.0\n",
       "1836          80.0           8.0      88.0\n",
       "\n",
       "[1837 rows x 3 columns]"
      ]
     },
     "execution_count": 29,
     "metadata": {},
     "output_type": "execute_result"
    }
   ],
   "source": [
    "encoder = LabelBinarizer()\n",
    "seed = 42\n",
    "\n",
    "df_GIAB_2_X = pd.DataFrame(data=X, columns=[\"f2_count_REF\", \"f2_count_ALT\", \"f2_count\"],\n",
    "                       dtype=np.float32)\n",
    "df_GIAB_2_X"
   ]
  },
  {
   "cell_type": "code",
   "execution_count": 32,
   "id": "632a106e",
   "metadata": {},
   "outputs": [
    {
     "data": {
      "text/html": [
       "<div>\n",
       "<style scoped>\n",
       "    .dataframe tbody tr th:only-of-type {\n",
       "        vertical-align: middle;\n",
       "    }\n",
       "\n",
       "    .dataframe tbody tr th {\n",
       "        vertical-align: top;\n",
       "    }\n",
       "\n",
       "    .dataframe thead th {\n",
       "        text-align: right;\n",
       "    }\n",
       "</style>\n",
       "<table border=\"1\" class=\"dataframe\">\n",
       "  <thead>\n",
       "    <tr style=\"text-align: right;\">\n",
       "      <th></th>\n",
       "      <th>0/0</th>\n",
       "      <th>0/1</th>\n",
       "      <th>1/1</th>\n",
       "      <th>./.</th>\n",
       "    </tr>\n",
       "  </thead>\n",
       "  <tbody>\n",
       "    <tr>\n",
       "      <th>0</th>\n",
       "      <td>1</td>\n",
       "      <td>0</td>\n",
       "      <td>0</td>\n",
       "      <td>0</td>\n",
       "    </tr>\n",
       "    <tr>\n",
       "      <th>1</th>\n",
       "      <td>1</td>\n",
       "      <td>0</td>\n",
       "      <td>0</td>\n",
       "      <td>0</td>\n",
       "    </tr>\n",
       "    <tr>\n",
       "      <th>2</th>\n",
       "      <td>0</td>\n",
       "      <td>0</td>\n",
       "      <td>1</td>\n",
       "      <td>0</td>\n",
       "    </tr>\n",
       "    <tr>\n",
       "      <th>3</th>\n",
       "      <td>0</td>\n",
       "      <td>1</td>\n",
       "      <td>0</td>\n",
       "      <td>0</td>\n",
       "    </tr>\n",
       "    <tr>\n",
       "      <th>4</th>\n",
       "      <td>0</td>\n",
       "      <td>0</td>\n",
       "      <td>1</td>\n",
       "      <td>0</td>\n",
       "    </tr>\n",
       "    <tr>\n",
       "      <th>...</th>\n",
       "      <td>...</td>\n",
       "      <td>...</td>\n",
       "      <td>...</td>\n",
       "      <td>...</td>\n",
       "    </tr>\n",
       "    <tr>\n",
       "      <th>1832</th>\n",
       "      <td>0</td>\n",
       "      <td>1</td>\n",
       "      <td>0</td>\n",
       "      <td>0</td>\n",
       "    </tr>\n",
       "    <tr>\n",
       "      <th>1833</th>\n",
       "      <td>1</td>\n",
       "      <td>0</td>\n",
       "      <td>0</td>\n",
       "      <td>0</td>\n",
       "    </tr>\n",
       "    <tr>\n",
       "      <th>1834</th>\n",
       "      <td>1</td>\n",
       "      <td>0</td>\n",
       "      <td>0</td>\n",
       "      <td>0</td>\n",
       "    </tr>\n",
       "    <tr>\n",
       "      <th>1835</th>\n",
       "      <td>1</td>\n",
       "      <td>0</td>\n",
       "      <td>0</td>\n",
       "      <td>0</td>\n",
       "    </tr>\n",
       "    <tr>\n",
       "      <th>1836</th>\n",
       "      <td>1</td>\n",
       "      <td>0</td>\n",
       "      <td>0</td>\n",
       "      <td>0</td>\n",
       "    </tr>\n",
       "  </tbody>\n",
       "</table>\n",
       "<p>1837 rows × 4 columns</p>\n",
       "</div>"
      ],
      "text/plain": [
       "      0/0  0/1  1/1  ./.\n",
       "0       1    0    0    0\n",
       "1       1    0    0    0\n",
       "2       0    0    1    0\n",
       "3       0    1    0    0\n",
       "4       0    0    1    0\n",
       "...   ...  ...  ...  ...\n",
       "1832    0    1    0    0\n",
       "1833    1    0    0    0\n",
       "1834    1    0    0    0\n",
       "1835    1    0    0    0\n",
       "1836    1    0    0    0\n",
       "\n",
       "[1837 rows x 4 columns]"
      ]
     },
     "execution_count": 32,
     "metadata": {},
     "output_type": "execute_result"
    }
   ],
   "source": [
    "target = encoder.fit_transform(y)\n",
    "df_GIAB_2_y = pd.DataFrame(data=target, columns=[\"0/0\", \"0/1\", \"1/1\", \"./.\"])\n",
    "df_GIAB_2_y"
   ]
  },
  {
   "cell_type": "code",
   "execution_count": 39,
   "id": "a0633dab",
   "metadata": {
    "scrolled": true
   },
   "outputs": [
    {
     "name": "stderr",
     "output_type": "stream",
     "text": [
      "C:\\Users\\Yumika\\AppData\\Local\\Temp\\ipykernel_29624\\237997923.py:31: DeprecationWarning: KerasClassifier is deprecated, use Sci-Keras (https://github.com/adriangb/scikeras) instead.\n",
      "  estimator = KerasClassifier(\n"
     ]
    }
   ],
   "source": [
    "X_train,X_test,y_train,y_test = train_test_split(df_GIAB_2_X,\n",
    "                                                 df_GIAB_2_y,\n",
    "                                                 test_size=0.20,\n",
    "                                                 random_state=seed)\n",
    " \n",
    "scaler = MinMaxScaler(feature_range=(0,1))\n",
    " \n",
    "X_train = pd.DataFrame(scaler.fit_transform(X_train),\n",
    "                               columns=X_train.columns,\n",
    "                               index=X_train.index)\n",
    "X_test = pd.DataFrame(scaler.transform(X_test),\n",
    "                           columns=X_test.columns,\n",
    "                           index=X_test.index)\n",
    " \n",
    "def model():\n",
    "    \"\"\"buiding the Keras model callback\"\"\"\n",
    "    model = Sequential()\n",
    "    model.add(Dense(8, input_dim=4, activation='relu', name='layer_1')) # tahn\n",
    "    model.add(Dense(10, activation='relu', name='layer_2')) # tahn\n",
    "    model.add(Dense(10, activation='relu', name='layer_3')) # tahn\n",
    "    model.add(Dense(4, activation='softmax', name='output_layer'))\n",
    "     \n",
    "    opt = keras.optimizers.Adam(learning_rate=0.01)\n",
    "    model.compile(loss=\"categorical_crossentropy\",\n",
    "                  optimizer=opt,\n",
    "                  metrics=['accuracy'])\n",
    "\n",
    "\n",
    "    return model\n",
    " \n",
    "estimator = KerasClassifier(\n",
    "        build_fn=model,\n",
    "        epochs=200, batch_size=20,\n",
    "        verbose=2)"
   ]
  },
  {
   "cell_type": "code",
   "execution_count": 40,
   "id": "ea0a5ae6",
   "metadata": {},
   "outputs": [
    {
     "name": "stdout",
     "output_type": "stream",
     "text": [
      "Epoch 1/200\n"
     ]
    },
    {
     "ename": "ValueError",
     "evalue": "in user code:\n\n    File \"C:\\Users\\Yumika\\anaconda3-2\\lib\\site-packages\\keras\\engine\\training.py\", line 878, in train_function  *\n        return step_function(self, iterator)\n    File \"C:\\Users\\Yumika\\anaconda3-2\\lib\\site-packages\\keras\\engine\\training.py\", line 867, in step_function  **\n        outputs = model.distribute_strategy.run(run_step, args=(data,))\n    File \"C:\\Users\\Yumika\\anaconda3-2\\lib\\site-packages\\keras\\engine\\training.py\", line 860, in run_step  **\n        outputs = model.train_step(data)\n    File \"C:\\Users\\Yumika\\anaconda3-2\\lib\\site-packages\\keras\\engine\\training.py\", line 808, in train_step\n        y_pred = self(x, training=True)\n    File \"C:\\Users\\Yumika\\anaconda3-2\\lib\\site-packages\\keras\\utils\\traceback_utils.py\", line 67, in error_handler\n        raise e.with_traceback(filtered_tb) from None\n    File \"C:\\Users\\Yumika\\anaconda3-2\\lib\\site-packages\\keras\\engine\\input_spec.py\", line 263, in assert_input_compatibility\n        raise ValueError(f'Input {input_index} of layer \"{layer_name}\" is '\n\n    ValueError: Input 0 of layer \"sequential_3\" is incompatible with the layer: expected shape=(None, 4), found shape=(None, 3)\n",
     "output_type": "error",
     "traceback": [
      "\u001b[1;31m---------------------------------------------------------------------------\u001b[0m",
      "\u001b[1;31mValueError\u001b[0m                                Traceback (most recent call last)",
      "Input \u001b[1;32mIn [40]\u001b[0m, in \u001b[0;36m<module>\u001b[1;34m\u001b[0m\n\u001b[1;32m----> 1\u001b[0m history \u001b[38;5;241m=\u001b[39m \u001b[43mestimator\u001b[49m\u001b[38;5;241;43m.\u001b[39;49m\u001b[43mfit\u001b[49m\u001b[43m(\u001b[49m\u001b[43mX_train\u001b[49m\u001b[43m,\u001b[49m\u001b[43m \u001b[49m\u001b[43my_train\u001b[49m\u001b[43m)\u001b[49m\n",
      "File \u001b[1;32m~\\anaconda3-2\\lib\\site-packages\\keras\\wrappers\\scikit_learn.py:232\u001b[0m, in \u001b[0;36mKerasClassifier.fit\u001b[1;34m(self, x, y, **kwargs)\u001b[0m\n\u001b[0;32m    230\u001b[0m   \u001b[38;5;28;01mraise\u001b[39;00m \u001b[38;5;167;01mValueError\u001b[39;00m(\u001b[38;5;124m'\u001b[39m\u001b[38;5;124mInvalid shape for y: \u001b[39m\u001b[38;5;124m'\u001b[39m \u001b[38;5;241m+\u001b[39m \u001b[38;5;28mstr\u001b[39m(y\u001b[38;5;241m.\u001b[39mshape))\n\u001b[0;32m    231\u001b[0m \u001b[38;5;28mself\u001b[39m\u001b[38;5;241m.\u001b[39mn_classes_ \u001b[38;5;241m=\u001b[39m \u001b[38;5;28mlen\u001b[39m(\u001b[38;5;28mself\u001b[39m\u001b[38;5;241m.\u001b[39mclasses_)\n\u001b[1;32m--> 232\u001b[0m \u001b[38;5;28;01mreturn\u001b[39;00m \u001b[38;5;28;43msuper\u001b[39;49m\u001b[43m(\u001b[49m\u001b[43mKerasClassifier\u001b[49m\u001b[43m,\u001b[49m\u001b[43m \u001b[49m\u001b[38;5;28;43mself\u001b[39;49m\u001b[43m)\u001b[49m\u001b[38;5;241;43m.\u001b[39;49m\u001b[43mfit\u001b[49m\u001b[43m(\u001b[49m\u001b[43mx\u001b[49m\u001b[43m,\u001b[49m\u001b[43m \u001b[49m\u001b[43my\u001b[49m\u001b[43m,\u001b[49m\u001b[43m \u001b[49m\u001b[38;5;241;43m*\u001b[39;49m\u001b[38;5;241;43m*\u001b[39;49m\u001b[43mkwargs\u001b[49m\u001b[43m)\u001b[49m\n",
      "File \u001b[1;32m~\\anaconda3-2\\lib\\site-packages\\keras\\wrappers\\scikit_learn.py:164\u001b[0m, in \u001b[0;36mBaseWrapper.fit\u001b[1;34m(self, x, y, **kwargs)\u001b[0m\n\u001b[0;32m    161\u001b[0m fit_args \u001b[38;5;241m=\u001b[39m copy\u001b[38;5;241m.\u001b[39mdeepcopy(\u001b[38;5;28mself\u001b[39m\u001b[38;5;241m.\u001b[39mfilter_sk_params(Sequential\u001b[38;5;241m.\u001b[39mfit))\n\u001b[0;32m    162\u001b[0m fit_args\u001b[38;5;241m.\u001b[39mupdate(kwargs)\n\u001b[1;32m--> 164\u001b[0m history \u001b[38;5;241m=\u001b[39m \u001b[38;5;28;43mself\u001b[39;49m\u001b[38;5;241;43m.\u001b[39;49m\u001b[43mmodel\u001b[49m\u001b[38;5;241;43m.\u001b[39;49m\u001b[43mfit\u001b[49m\u001b[43m(\u001b[49m\u001b[43mx\u001b[49m\u001b[43m,\u001b[49m\u001b[43m \u001b[49m\u001b[43my\u001b[49m\u001b[43m,\u001b[49m\u001b[43m \u001b[49m\u001b[38;5;241;43m*\u001b[39;49m\u001b[38;5;241;43m*\u001b[39;49m\u001b[43mfit_args\u001b[49m\u001b[43m)\u001b[49m\n\u001b[0;32m    166\u001b[0m \u001b[38;5;28;01mreturn\u001b[39;00m history\n",
      "File \u001b[1;32m~\\anaconda3-2\\lib\\site-packages\\keras\\utils\\traceback_utils.py:67\u001b[0m, in \u001b[0;36mfilter_traceback.<locals>.error_handler\u001b[1;34m(*args, **kwargs)\u001b[0m\n\u001b[0;32m     65\u001b[0m \u001b[38;5;28;01mexcept\u001b[39;00m \u001b[38;5;167;01mException\u001b[39;00m \u001b[38;5;28;01mas\u001b[39;00m e:  \u001b[38;5;66;03m# pylint: disable=broad-except\u001b[39;00m\n\u001b[0;32m     66\u001b[0m   filtered_tb \u001b[38;5;241m=\u001b[39m _process_traceback_frames(e\u001b[38;5;241m.\u001b[39m__traceback__)\n\u001b[1;32m---> 67\u001b[0m   \u001b[38;5;28;01mraise\u001b[39;00m e\u001b[38;5;241m.\u001b[39mwith_traceback(filtered_tb) \u001b[38;5;28;01mfrom\u001b[39;00m \u001b[38;5;28mNone\u001b[39m\n\u001b[0;32m     68\u001b[0m \u001b[38;5;28;01mfinally\u001b[39;00m:\n\u001b[0;32m     69\u001b[0m   \u001b[38;5;28;01mdel\u001b[39;00m filtered_tb\n",
      "File \u001b[1;32m~\\anaconda3-2\\lib\\site-packages\\tensorflow\\python\\framework\\func_graph.py:1129\u001b[0m, in \u001b[0;36mfunc_graph_from_py_func.<locals>.autograph_handler\u001b[1;34m(*args, **kwargs)\u001b[0m\n\u001b[0;32m   1127\u001b[0m \u001b[38;5;28;01mexcept\u001b[39;00m \u001b[38;5;167;01mException\u001b[39;00m \u001b[38;5;28;01mas\u001b[39;00m e:  \u001b[38;5;66;03m# pylint:disable=broad-except\u001b[39;00m\n\u001b[0;32m   1128\u001b[0m   \u001b[38;5;28;01mif\u001b[39;00m \u001b[38;5;28mhasattr\u001b[39m(e, \u001b[38;5;124m\"\u001b[39m\u001b[38;5;124mag_error_metadata\u001b[39m\u001b[38;5;124m\"\u001b[39m):\n\u001b[1;32m-> 1129\u001b[0m     \u001b[38;5;28;01mraise\u001b[39;00m e\u001b[38;5;241m.\u001b[39mag_error_metadata\u001b[38;5;241m.\u001b[39mto_exception(e)\n\u001b[0;32m   1130\u001b[0m   \u001b[38;5;28;01melse\u001b[39;00m:\n\u001b[0;32m   1131\u001b[0m     \u001b[38;5;28;01mraise\u001b[39;00m\n",
      "\u001b[1;31mValueError\u001b[0m: in user code:\n\n    File \"C:\\Users\\Yumika\\anaconda3-2\\lib\\site-packages\\keras\\engine\\training.py\", line 878, in train_function  *\n        return step_function(self, iterator)\n    File \"C:\\Users\\Yumika\\anaconda3-2\\lib\\site-packages\\keras\\engine\\training.py\", line 867, in step_function  **\n        outputs = model.distribute_strategy.run(run_step, args=(data,))\n    File \"C:\\Users\\Yumika\\anaconda3-2\\lib\\site-packages\\keras\\engine\\training.py\", line 860, in run_step  **\n        outputs = model.train_step(data)\n    File \"C:\\Users\\Yumika\\anaconda3-2\\lib\\site-packages\\keras\\engine\\training.py\", line 808, in train_step\n        y_pred = self(x, training=True)\n    File \"C:\\Users\\Yumika\\anaconda3-2\\lib\\site-packages\\keras\\utils\\traceback_utils.py\", line 67, in error_handler\n        raise e.with_traceback(filtered_tb) from None\n    File \"C:\\Users\\Yumika\\anaconda3-2\\lib\\site-packages\\keras\\engine\\input_spec.py\", line 263, in assert_input_compatibility\n        raise ValueError(f'Input {input_index} of layer \"{layer_name}\" is '\n\n    ValueError: Input 0 of layer \"sequential_3\" is incompatible with the layer: expected shape=(None, 4), found shape=(None, 3)\n"
     ]
    }
   ],
   "source": [
    "history = estimator.fit(X_train, y_train)"
   ]
  },
  {
   "cell_type": "code",
   "execution_count": 41,
   "id": "35fa8c32",
   "metadata": {},
   "outputs": [
    {
     "ename": "NameError",
     "evalue": "name 'history' is not defined",
     "output_type": "error",
     "traceback": [
      "\u001b[1;31m---------------------------------------------------------------------------\u001b[0m",
      "\u001b[1;31mNameError\u001b[0m                                 Traceback (most recent call last)",
      "Input \u001b[1;32mIn [41]\u001b[0m, in \u001b[0;36m<module>\u001b[1;34m\u001b[0m\n\u001b[1;32m----> 1\u001b[0m \u001b[43mhistory\u001b[49m\u001b[38;5;241m.\u001b[39mhistory[\u001b[38;5;124m\"\u001b[39m\u001b[38;5;124maccuracy\u001b[39m\u001b[38;5;124m\"\u001b[39m]\n",
      "\u001b[1;31mNameError\u001b[0m: name 'history' is not defined"
     ]
    }
   ],
   "source": [
    "history.history[\"accuracy\"]"
   ]
  },
  {
   "cell_type": "code",
   "execution_count": null,
   "id": "32f60513",
   "metadata": {},
   "outputs": [],
   "source": [
    "history.history[\"loss\"]"
   ]
  },
  {
   "cell_type": "code",
   "execution_count": null,
   "id": "9caccc8e",
   "metadata": {},
   "outputs": [],
   "source": [
    "estimator.predict(X_test)"
   ]
  },
  {
   "cell_type": "code",
   "execution_count": null,
   "id": "38a28f75",
   "metadata": {},
   "outputs": [],
   "source": [
    "y_test"
   ]
  },
  {
   "cell_type": "code",
   "execution_count": null,
   "id": "57ad950b",
   "metadata": {},
   "outputs": [],
   "source": [
    "y_test2 = y_test.copy()\n",
    "y_test2[\"genotype\"] = 0\n",
    "y_test2[\"genotype\"] = np.where(y_test2[\"0/0\"]==1, 0, y_test2[\"genotype\"])\n",
    "y_test2[\"genotype\"] = np.where(y_test2[\"1/0\"]==1, 1, y_test2[\"genotype\"])\n",
    "y_test2[\"genotype\"] = np.where(y_test2[\"1/1\"]==1, 2, y_test2[\"genotype\"])\n",
    "y_test2"
   ]
  },
  {
   "cell_type": "code",
   "execution_count": null,
   "id": "60c2ce33",
   "metadata": {},
   "outputs": [],
   "source": [
    "y_test = y_test2[\"genotype\"].to_numpy()"
   ]
  },
  {
   "cell_type": "code",
   "execution_count": null,
   "id": "fa54491c",
   "metadata": {},
   "outputs": [],
   "source": [
    "pred_DNN = estimator.predict(X_test)\n",
    "\n",
    "# Evaluate the model\n",
    "print(confusion_matrix(y_test, pred_DNN))\n",
    "print(classification_report(y_test, pred_DNN))\n",
    "print(accuracy_score(y_test, pred_DNN))"
   ]
  },
  {
   "cell_type": "code",
   "execution_count": null,
   "id": "0242ab08",
   "metadata": {
    "scrolled": true
   },
   "outputs": [],
   "source": [
    "lst_epoch = [i for i in range(1, 201)]\n",
    "#print(lst_epoch)\n",
    "lst_accuracy = history.history['accuracy']\n",
    "plt.title(\"MLP: epoch vs accuracy\")\n",
    "plt.xlabel(\"epoch\")\n",
    "plt.ylabel(\"accuracy\")\n",
    "plt.plot(lst_epoch, lst_accuracy) "
   ]
  },
  {
   "cell_type": "code",
   "execution_count": null,
   "id": "c1602ad5",
   "metadata": {},
   "outputs": [],
   "source": [
    "lst_epoch = [i for i in range(1, 201)]\n",
    "#print(lst_epoch)\n",
    "lst_loss = history.history['loss']\n",
    "plt.title(\"MLP: epoch vs loss\")\n",
    "plt.xlabel(\"epoch\")\n",
    "plt.ylabel(\"loss\")\n",
    "plt.plot(lst_epoch, lst_loss) "
   ]
  },
  {
   "cell_type": "code",
   "execution_count": null,
   "id": "07700c41",
   "metadata": {},
   "outputs": [],
   "source": [
    "model2 = Sequential()\n",
    "model2.add(Dense(6, input_dim=3, activation='relu', name='layer_1'))\n",
    "model2.add(Dense(10, activation='relu', name='layer_2'))\n",
    "model2.add(Dense(3, activation='softmax', name='output_layer'))\n",
    "\n",
    "model2.compile(loss=\"categorical_crossentropy\",\n",
    "              optimizer=\"adam\",\n",
    "              metrics=['accuracy'])"
   ]
  },
  {
   "cell_type": "code",
   "execution_count": null,
   "id": "75be0a11",
   "metadata": {},
   "outputs": [],
   "source": [
    "model().fit(X_train, y_train, epochs=200)"
   ]
  },
  {
   "cell_type": "code",
   "execution_count": null,
   "id": "c391866a",
   "metadata": {},
   "outputs": [],
   "source": [
    "model().predict(X_test)\n",
    "#score = model.evaluate(x_test, y_test, verbose = 0) "
   ]
  }
 ],
 "metadata": {
  "kernelspec": {
   "display_name": "Python 3",
   "language": "python",
   "name": "python3"
  },
  "language_info": {
   "codemirror_mode": {
    "name": "ipython",
    "version": 3
   },
   "file_extension": ".py",
   "mimetype": "text/x-python",
   "name": "python",
   "nbconvert_exporter": "python",
   "pygments_lexer": "ipython3",
   "version": "3.8.8"
  }
 },
 "nbformat": 4,
 "nbformat_minor": 5
}
