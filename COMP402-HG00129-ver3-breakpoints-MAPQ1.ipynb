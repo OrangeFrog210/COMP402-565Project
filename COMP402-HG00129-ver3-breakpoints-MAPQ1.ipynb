{
 "cells": [
  {
   "cell_type": "markdown",
   "id": "549bf735",
   "metadata": {},
   "source": [
    "# COMP402\n",
    "Code used in Honour's Project Course"
   ]
  },
  {
   "cell_type": "code",
   "execution_count": 1,
   "id": "695a588a",
   "metadata": {},
   "outputs": [],
   "source": [
    "import pandas as pd\n",
    "import numpy as np\n",
    "import tensorflow as tf\n",
    "from tensorflow.estimator import DNNClassifier\n",
    "from sklearn.model_selection import train_test_split\n",
    "from sklearn import preprocessing\n",
    "from sklearn import linear_model \n",
    "from sklearn.linear_model import LogisticRegression\n",
    "from sklearn.ensemble import RandomForestClassifier\n",
    "from sklearn import svm\n",
    "from sklearn.metrics import classification_report, confusion_matrix, accuracy_score\n",
    "import sklearn\n",
    "from matplotlib import pyplot as plt\n",
    "import seaborn as sns\n",
    "\n",
    "from sklearn.preprocessing import MinMaxScaler\n",
    "from tensorflow import keras\n",
    "from keras.models import Sequential\n",
    "from keras.layers import Dense\n",
    "from sklearn.preprocessing import LabelBinarizer\n",
    "from keras.wrappers.scikit_learn import KerasClassifier\n",
    "from sklearn.model_selection import KFold\n",
    "from sklearn.model_selection import cross_val_score"
   ]
  },
  {
   "cell_type": "code",
   "execution_count": 2,
   "id": "d0779fd7",
   "metadata": {},
   "outputs": [],
   "source": [
    "f = \"merged_HG00129.txt\""
   ]
  },
  {
   "cell_type": "code",
   "execution_count": 3,
   "id": "47e1e856",
   "metadata": {},
   "outputs": [
    {
     "data": {
      "text/html": [
       "<div>\n",
       "<style scoped>\n",
       "    .dataframe tbody tr th:only-of-type {\n",
       "        vertical-align: middle;\n",
       "    }\n",
       "\n",
       "    .dataframe tbody tr th {\n",
       "        vertical-align: top;\n",
       "    }\n",
       "\n",
       "    .dataframe thead th {\n",
       "        text-align: right;\n",
       "    }\n",
       "</style>\n",
       "<table border=\"1\" class=\"dataframe\">\n",
       "  <thead>\n",
       "    <tr style=\"text-align: right;\">\n",
       "      <th></th>\n",
       "      <th>0</th>\n",
       "    </tr>\n",
       "  </thead>\n",
       "  <tbody>\n",
       "    <tr>\n",
       "      <th>0</th>\n",
       "      <td>chr10:102885491-102885839/ 120 4 124 chr10:102...</td>\n",
       "    </tr>\n",
       "    <tr>\n",
       "      <th>1</th>\n",
       "      <td>chr10:103337767-103338096/ 124 22 146 chr10:10...</td>\n",
       "    </tr>\n",
       "    <tr>\n",
       "      <th>2</th>\n",
       "      <td>chr10:10451447-10451779/ 20 80 100 chr10:10451...</td>\n",
       "    </tr>\n",
       "    <tr>\n",
       "      <th>3</th>\n",
       "      <td>chr10:105917786-105918126/ 82 32 114 chr10:105...</td>\n",
       "    </tr>\n",
       "    <tr>\n",
       "      <th>4</th>\n",
       "      <td>chr10:10666573-10666897/ 38 70 108 chr10:10666...</td>\n",
       "    </tr>\n",
       "    <tr>\n",
       "      <th>...</th>\n",
       "      <td>...</td>\n",
       "    </tr>\n",
       "    <tr>\n",
       "      <th>1832</th>\n",
       "      <td>chrX:88488057-88488366/ 16 40 56 chrX:88488072...</td>\n",
       "    </tr>\n",
       "    <tr>\n",
       "      <th>1833</th>\n",
       "      <td>chrX:94309970-94310312/ 66 4 70 chrX:94309987 0/0</td>\n",
       "    </tr>\n",
       "    <tr>\n",
       "      <th>1834</th>\n",
       "      <td>chrX:96751638-96751966/ 40 12 52 chrX:96751651...</td>\n",
       "    </tr>\n",
       "    <tr>\n",
       "      <th>1835</th>\n",
       "      <td>chrX:96939661-96939977/ 46 0 46 chrX:96939674 0/0</td>\n",
       "    </tr>\n",
       "    <tr>\n",
       "      <th>1836</th>\n",
       "      <td>chrX:98762283-98762599/ 80 8 88 chrX:98762292 0/0</td>\n",
       "    </tr>\n",
       "  </tbody>\n",
       "</table>\n",
       "<p>1837 rows × 1 columns</p>\n",
       "</div>"
      ],
      "text/plain": [
       "                                                      0\n",
       "0     chr10:102885491-102885839/ 120 4 124 chr10:102...\n",
       "1     chr10:103337767-103338096/ 124 22 146 chr10:10...\n",
       "2     chr10:10451447-10451779/ 20 80 100 chr10:10451...\n",
       "3     chr10:105917786-105918126/ 82 32 114 chr10:105...\n",
       "4     chr10:10666573-10666897/ 38 70 108 chr10:10666...\n",
       "...                                                 ...\n",
       "1832  chrX:88488057-88488366/ 16 40 56 chrX:88488072...\n",
       "1833  chrX:94309970-94310312/ 66 4 70 chrX:94309987 0/0\n",
       "1834  chrX:96751638-96751966/ 40 12 52 chrX:96751651...\n",
       "1835  chrX:96939661-96939977/ 46 0 46 chrX:96939674 0/0\n",
       "1836  chrX:98762283-98762599/ 80 8 88 chrX:98762292 0/0\n",
       "\n",
       "[1837 rows x 1 columns]"
      ]
     },
     "execution_count": 3,
     "metadata": {},
     "output_type": "execute_result"
    }
   ],
   "source": [
    "df = pd.read_csv(f, header=None)\n",
    "df = df.astype(str)\n",
    "\n",
    "df"
   ]
  },
  {
   "cell_type": "code",
   "execution_count": 4,
   "id": "ab6bb873",
   "metadata": {},
   "outputs": [
    {
     "data": {
      "text/html": [
       "<div>\n",
       "<style scoped>\n",
       "    .dataframe tbody tr th:only-of-type {\n",
       "        vertical-align: middle;\n",
       "    }\n",
       "\n",
       "    .dataframe tbody tr th {\n",
       "        vertical-align: top;\n",
       "    }\n",
       "\n",
       "    .dataframe thead th {\n",
       "        text-align: right;\n",
       "    }\n",
       "</style>\n",
       "<table border=\"1\" class=\"dataframe\">\n",
       "  <thead>\n",
       "    <tr style=\"text-align: right;\">\n",
       "      <th></th>\n",
       "      <th>0</th>\n",
       "      <th>1</th>\n",
       "      <th>2</th>\n",
       "      <th>3</th>\n",
       "      <th>4</th>\n",
       "      <th>5</th>\n",
       "    </tr>\n",
       "  </thead>\n",
       "  <tbody>\n",
       "    <tr>\n",
       "      <th>0</th>\n",
       "      <td>chr10:102885491-102885839/</td>\n",
       "      <td>120</td>\n",
       "      <td>4</td>\n",
       "      <td>124</td>\n",
       "      <td>chr10:102885500</td>\n",
       "      <td>0/0</td>\n",
       "    </tr>\n",
       "    <tr>\n",
       "      <th>1</th>\n",
       "      <td>chr10:103337767-103338096/</td>\n",
       "      <td>124</td>\n",
       "      <td>22</td>\n",
       "      <td>146</td>\n",
       "      <td>chr10:103337782</td>\n",
       "      <td>0/0</td>\n",
       "    </tr>\n",
       "    <tr>\n",
       "      <th>2</th>\n",
       "      <td>chr10:10451447-10451779/</td>\n",
       "      <td>20</td>\n",
       "      <td>80</td>\n",
       "      <td>100</td>\n",
       "      <td>chr10:10451456</td>\n",
       "      <td>1/1</td>\n",
       "    </tr>\n",
       "    <tr>\n",
       "      <th>3</th>\n",
       "      <td>chr10:105917786-105918126/</td>\n",
       "      <td>82</td>\n",
       "      <td>32</td>\n",
       "      <td>114</td>\n",
       "      <td>chr10:105917801</td>\n",
       "      <td>0/1</td>\n",
       "    </tr>\n",
       "    <tr>\n",
       "      <th>4</th>\n",
       "      <td>chr10:10666573-10666897/</td>\n",
       "      <td>38</td>\n",
       "      <td>70</td>\n",
       "      <td>108</td>\n",
       "      <td>chr10:10666580</td>\n",
       "      <td>1/1</td>\n",
       "    </tr>\n",
       "    <tr>\n",
       "      <th>...</th>\n",
       "      <td>...</td>\n",
       "      <td>...</td>\n",
       "      <td>...</td>\n",
       "      <td>...</td>\n",
       "      <td>...</td>\n",
       "      <td>...</td>\n",
       "    </tr>\n",
       "    <tr>\n",
       "      <th>1832</th>\n",
       "      <td>chrX:88488057-88488366/</td>\n",
       "      <td>16</td>\n",
       "      <td>40</td>\n",
       "      <td>56</td>\n",
       "      <td>chrX:88488072</td>\n",
       "      <td>0/1</td>\n",
       "    </tr>\n",
       "    <tr>\n",
       "      <th>1833</th>\n",
       "      <td>chrX:94309970-94310312/</td>\n",
       "      <td>66</td>\n",
       "      <td>4</td>\n",
       "      <td>70</td>\n",
       "      <td>chrX:94309987</td>\n",
       "      <td>0/0</td>\n",
       "    </tr>\n",
       "    <tr>\n",
       "      <th>1834</th>\n",
       "      <td>chrX:96751638-96751966/</td>\n",
       "      <td>40</td>\n",
       "      <td>12</td>\n",
       "      <td>52</td>\n",
       "      <td>chrX:96751651</td>\n",
       "      <td>0/0</td>\n",
       "    </tr>\n",
       "    <tr>\n",
       "      <th>1835</th>\n",
       "      <td>chrX:96939661-96939977/</td>\n",
       "      <td>46</td>\n",
       "      <td>0</td>\n",
       "      <td>46</td>\n",
       "      <td>chrX:96939674</td>\n",
       "      <td>0/0</td>\n",
       "    </tr>\n",
       "    <tr>\n",
       "      <th>1836</th>\n",
       "      <td>chrX:98762283-98762599/</td>\n",
       "      <td>80</td>\n",
       "      <td>8</td>\n",
       "      <td>88</td>\n",
       "      <td>chrX:98762292</td>\n",
       "      <td>0/0</td>\n",
       "    </tr>\n",
       "  </tbody>\n",
       "</table>\n",
       "<p>1837 rows × 6 columns</p>\n",
       "</div>"
      ],
      "text/plain": [
       "                               0    1   2    3                4    5\n",
       "0     chr10:102885491-102885839/  120   4  124  chr10:102885500  0/0\n",
       "1     chr10:103337767-103338096/  124  22  146  chr10:103337782  0/0\n",
       "2       chr10:10451447-10451779/   20  80  100   chr10:10451456  1/1\n",
       "3     chr10:105917786-105918126/   82  32  114  chr10:105917801  0/1\n",
       "4       chr10:10666573-10666897/   38  70  108   chr10:10666580  1/1\n",
       "...                          ...  ...  ..  ...              ...  ...\n",
       "1832     chrX:88488057-88488366/   16  40   56    chrX:88488072  0/1\n",
       "1833     chrX:94309970-94310312/   66   4   70    chrX:94309987  0/0\n",
       "1834     chrX:96751638-96751966/   40  12   52    chrX:96751651  0/0\n",
       "1835     chrX:96939661-96939977/   46   0   46    chrX:96939674  0/0\n",
       "1836     chrX:98762283-98762599/   80   8   88    chrX:98762292  0/0\n",
       "\n",
       "[1837 rows x 6 columns]"
      ]
     },
     "execution_count": 4,
     "metadata": {},
     "output_type": "execute_result"
    }
   ],
   "source": [
    "# split column into multiple columns by delimiter \n",
    "df = df[0].str.split(' ', expand=True)\n",
    "df"
   ]
  },
  {
   "cell_type": "code",
   "execution_count": 5,
   "id": "284acbe3",
   "metadata": {
    "scrolled": true
   },
   "outputs": [],
   "source": [
    "# locus = dir_name\n",
    "df.columns = [\"locus1\", \"f2_count_REF\", \"f2_count_ALT\", \"f2_count\", \"locus2\", \"genotype\"]"
   ]
  },
  {
   "cell_type": "code",
   "execution_count": 6,
   "id": "91d8eb1d",
   "metadata": {},
   "outputs": [
    {
     "data": {
      "text/html": [
       "<div>\n",
       "<style scoped>\n",
       "    .dataframe tbody tr th:only-of-type {\n",
       "        vertical-align: middle;\n",
       "    }\n",
       "\n",
       "    .dataframe tbody tr th {\n",
       "        vertical-align: top;\n",
       "    }\n",
       "\n",
       "    .dataframe thead th {\n",
       "        text-align: right;\n",
       "    }\n",
       "</style>\n",
       "<table border=\"1\" class=\"dataframe\">\n",
       "  <thead>\n",
       "    <tr style=\"text-align: right;\">\n",
       "      <th></th>\n",
       "      <th>locus1</th>\n",
       "      <th>f2_count_REF</th>\n",
       "      <th>f2_count_ALT</th>\n",
       "      <th>f2_count</th>\n",
       "      <th>locus2</th>\n",
       "      <th>genotype</th>\n",
       "    </tr>\n",
       "  </thead>\n",
       "  <tbody>\n",
       "    <tr>\n",
       "      <th>0</th>\n",
       "      <td>chr10:102885491-102885839/</td>\n",
       "      <td>120</td>\n",
       "      <td>4</td>\n",
       "      <td>124</td>\n",
       "      <td>chr10:102885500</td>\n",
       "      <td>0/0</td>\n",
       "    </tr>\n",
       "    <tr>\n",
       "      <th>1</th>\n",
       "      <td>chr10:103337767-103338096/</td>\n",
       "      <td>124</td>\n",
       "      <td>22</td>\n",
       "      <td>146</td>\n",
       "      <td>chr10:103337782</td>\n",
       "      <td>0/0</td>\n",
       "    </tr>\n",
       "    <tr>\n",
       "      <th>2</th>\n",
       "      <td>chr10:10451447-10451779/</td>\n",
       "      <td>20</td>\n",
       "      <td>80</td>\n",
       "      <td>100</td>\n",
       "      <td>chr10:10451456</td>\n",
       "      <td>1/1</td>\n",
       "    </tr>\n",
       "    <tr>\n",
       "      <th>3</th>\n",
       "      <td>chr10:105917786-105918126/</td>\n",
       "      <td>82</td>\n",
       "      <td>32</td>\n",
       "      <td>114</td>\n",
       "      <td>chr10:105917801</td>\n",
       "      <td>0/1</td>\n",
       "    </tr>\n",
       "    <tr>\n",
       "      <th>4</th>\n",
       "      <td>chr10:10666573-10666897/</td>\n",
       "      <td>38</td>\n",
       "      <td>70</td>\n",
       "      <td>108</td>\n",
       "      <td>chr10:10666580</td>\n",
       "      <td>1/1</td>\n",
       "    </tr>\n",
       "    <tr>\n",
       "      <th>...</th>\n",
       "      <td>...</td>\n",
       "      <td>...</td>\n",
       "      <td>...</td>\n",
       "      <td>...</td>\n",
       "      <td>...</td>\n",
       "      <td>...</td>\n",
       "    </tr>\n",
       "    <tr>\n",
       "      <th>1832</th>\n",
       "      <td>chrX:88488057-88488366/</td>\n",
       "      <td>16</td>\n",
       "      <td>40</td>\n",
       "      <td>56</td>\n",
       "      <td>chrX:88488072</td>\n",
       "      <td>0/1</td>\n",
       "    </tr>\n",
       "    <tr>\n",
       "      <th>1833</th>\n",
       "      <td>chrX:94309970-94310312/</td>\n",
       "      <td>66</td>\n",
       "      <td>4</td>\n",
       "      <td>70</td>\n",
       "      <td>chrX:94309987</td>\n",
       "      <td>0/0</td>\n",
       "    </tr>\n",
       "    <tr>\n",
       "      <th>1834</th>\n",
       "      <td>chrX:96751638-96751966/</td>\n",
       "      <td>40</td>\n",
       "      <td>12</td>\n",
       "      <td>52</td>\n",
       "      <td>chrX:96751651</td>\n",
       "      <td>0/0</td>\n",
       "    </tr>\n",
       "    <tr>\n",
       "      <th>1835</th>\n",
       "      <td>chrX:96939661-96939977/</td>\n",
       "      <td>46</td>\n",
       "      <td>0</td>\n",
       "      <td>46</td>\n",
       "      <td>chrX:96939674</td>\n",
       "      <td>0/0</td>\n",
       "    </tr>\n",
       "    <tr>\n",
       "      <th>1836</th>\n",
       "      <td>chrX:98762283-98762599/</td>\n",
       "      <td>80</td>\n",
       "      <td>8</td>\n",
       "      <td>88</td>\n",
       "      <td>chrX:98762292</td>\n",
       "      <td>0/0</td>\n",
       "    </tr>\n",
       "  </tbody>\n",
       "</table>\n",
       "<p>1837 rows × 6 columns</p>\n",
       "</div>"
      ],
      "text/plain": [
       "                          locus1  f2_count_REF  f2_count_ALT  f2_count  \\\n",
       "0     chr10:102885491-102885839/           120             4       124   \n",
       "1     chr10:103337767-103338096/           124            22       146   \n",
       "2       chr10:10451447-10451779/            20            80       100   \n",
       "3     chr10:105917786-105918126/            82            32       114   \n",
       "4       chr10:10666573-10666897/            38            70       108   \n",
       "...                          ...           ...           ...       ...   \n",
       "1832     chrX:88488057-88488366/            16            40        56   \n",
       "1833     chrX:94309970-94310312/            66             4        70   \n",
       "1834     chrX:96751638-96751966/            40            12        52   \n",
       "1835     chrX:96939661-96939977/            46             0        46   \n",
       "1836     chrX:98762283-98762599/            80             8        88   \n",
       "\n",
       "               locus2 genotype  \n",
       "0     chr10:102885500      0/0  \n",
       "1     chr10:103337782      0/0  \n",
       "2      chr10:10451456      1/1  \n",
       "3     chr10:105917801      0/1  \n",
       "4      chr10:10666580      1/1  \n",
       "...               ...      ...  \n",
       "1832    chrX:88488072      0/1  \n",
       "1833    chrX:94309987      0/0  \n",
       "1834    chrX:96751651      0/0  \n",
       "1835    chrX:96939674      0/0  \n",
       "1836    chrX:98762292      0/0  \n",
       "\n",
       "[1837 rows x 6 columns]"
      ]
     },
     "execution_count": 6,
     "metadata": {},
     "output_type": "execute_result"
    }
   ],
   "source": [
    "dict_type_convert = {\"f2_count_REF\": int, \"f2_count_ALT\": int, \"f2_count\": int}\n",
    "df = df.astype(dict_type_convert)\n",
    "df"
   ]
  },
  {
   "cell_type": "code",
   "execution_count": 7,
   "id": "2c059fbd",
   "metadata": {},
   "outputs": [
    {
     "data": {
      "text/html": [
       "<div>\n",
       "<style scoped>\n",
       "    .dataframe tbody tr th:only-of-type {\n",
       "        vertical-align: middle;\n",
       "    }\n",
       "\n",
       "    .dataframe tbody tr th {\n",
       "        vertical-align: top;\n",
       "    }\n",
       "\n",
       "    .dataframe thead th {\n",
       "        text-align: right;\n",
       "    }\n",
       "</style>\n",
       "<table border=\"1\" class=\"dataframe\">\n",
       "  <thead>\n",
       "    <tr style=\"text-align: right;\">\n",
       "      <th></th>\n",
       "      <th>locus1</th>\n",
       "      <th>f2_count_REF</th>\n",
       "      <th>f2_count_ALT</th>\n",
       "      <th>f2_count</th>\n",
       "      <th>locus2</th>\n",
       "      <th>genotype</th>\n",
       "    </tr>\n",
       "  </thead>\n",
       "  <tbody>\n",
       "    <tr>\n",
       "      <th>0</th>\n",
       "      <td>chr10:102885491-102885839</td>\n",
       "      <td>120</td>\n",
       "      <td>4</td>\n",
       "      <td>124</td>\n",
       "      <td>chr10:102885500</td>\n",
       "      <td>0/0</td>\n",
       "    </tr>\n",
       "    <tr>\n",
       "      <th>1</th>\n",
       "      <td>chr10:103337767-103338096</td>\n",
       "      <td>124</td>\n",
       "      <td>22</td>\n",
       "      <td>146</td>\n",
       "      <td>chr10:103337782</td>\n",
       "      <td>0/0</td>\n",
       "    </tr>\n",
       "    <tr>\n",
       "      <th>2</th>\n",
       "      <td>chr10:10451447-10451779</td>\n",
       "      <td>20</td>\n",
       "      <td>80</td>\n",
       "      <td>100</td>\n",
       "      <td>chr10:10451456</td>\n",
       "      <td>1/1</td>\n",
       "    </tr>\n",
       "    <tr>\n",
       "      <th>3</th>\n",
       "      <td>chr10:105917786-105918126</td>\n",
       "      <td>82</td>\n",
       "      <td>32</td>\n",
       "      <td>114</td>\n",
       "      <td>chr10:105917801</td>\n",
       "      <td>0/1</td>\n",
       "    </tr>\n",
       "    <tr>\n",
       "      <th>4</th>\n",
       "      <td>chr10:10666573-10666897</td>\n",
       "      <td>38</td>\n",
       "      <td>70</td>\n",
       "      <td>108</td>\n",
       "      <td>chr10:10666580</td>\n",
       "      <td>1/1</td>\n",
       "    </tr>\n",
       "    <tr>\n",
       "      <th>...</th>\n",
       "      <td>...</td>\n",
       "      <td>...</td>\n",
       "      <td>...</td>\n",
       "      <td>...</td>\n",
       "      <td>...</td>\n",
       "      <td>...</td>\n",
       "    </tr>\n",
       "    <tr>\n",
       "      <th>1832</th>\n",
       "      <td>chrX:88488057-88488366</td>\n",
       "      <td>16</td>\n",
       "      <td>40</td>\n",
       "      <td>56</td>\n",
       "      <td>chrX:88488072</td>\n",
       "      <td>0/1</td>\n",
       "    </tr>\n",
       "    <tr>\n",
       "      <th>1833</th>\n",
       "      <td>chrX:94309970-94310312</td>\n",
       "      <td>66</td>\n",
       "      <td>4</td>\n",
       "      <td>70</td>\n",
       "      <td>chrX:94309987</td>\n",
       "      <td>0/0</td>\n",
       "    </tr>\n",
       "    <tr>\n",
       "      <th>1834</th>\n",
       "      <td>chrX:96751638-96751966</td>\n",
       "      <td>40</td>\n",
       "      <td>12</td>\n",
       "      <td>52</td>\n",
       "      <td>chrX:96751651</td>\n",
       "      <td>0/0</td>\n",
       "    </tr>\n",
       "    <tr>\n",
       "      <th>1835</th>\n",
       "      <td>chrX:96939661-96939977</td>\n",
       "      <td>46</td>\n",
       "      <td>0</td>\n",
       "      <td>46</td>\n",
       "      <td>chrX:96939674</td>\n",
       "      <td>0/0</td>\n",
       "    </tr>\n",
       "    <tr>\n",
       "      <th>1836</th>\n",
       "      <td>chrX:98762283-98762599</td>\n",
       "      <td>80</td>\n",
       "      <td>8</td>\n",
       "      <td>88</td>\n",
       "      <td>chrX:98762292</td>\n",
       "      <td>0/0</td>\n",
       "    </tr>\n",
       "  </tbody>\n",
       "</table>\n",
       "<p>1837 rows × 6 columns</p>\n",
       "</div>"
      ],
      "text/plain": [
       "                         locus1  f2_count_REF  f2_count_ALT  f2_count  \\\n",
       "0     chr10:102885491-102885839           120             4       124   \n",
       "1     chr10:103337767-103338096           124            22       146   \n",
       "2       chr10:10451447-10451779            20            80       100   \n",
       "3     chr10:105917786-105918126            82            32       114   \n",
       "4       chr10:10666573-10666897            38            70       108   \n",
       "...                         ...           ...           ...       ...   \n",
       "1832     chrX:88488057-88488366            16            40        56   \n",
       "1833     chrX:94309970-94310312            66             4        70   \n",
       "1834     chrX:96751638-96751966            40            12        52   \n",
       "1835     chrX:96939661-96939977            46             0        46   \n",
       "1836     chrX:98762283-98762599            80             8        88   \n",
       "\n",
       "               locus2 genotype  \n",
       "0     chr10:102885500      0/0  \n",
       "1     chr10:103337782      0/0  \n",
       "2      chr10:10451456      1/1  \n",
       "3     chr10:105917801      0/1  \n",
       "4      chr10:10666580      1/1  \n",
       "...               ...      ...  \n",
       "1832    chrX:88488072      0/1  \n",
       "1833    chrX:94309987      0/0  \n",
       "1834    chrX:96751651      0/0  \n",
       "1835    chrX:96939674      0/0  \n",
       "1836    chrX:98762292      0/0  \n",
       "\n",
       "[1837 rows x 6 columns]"
      ]
     },
     "execution_count": 7,
     "metadata": {},
     "output_type": "execute_result"
    }
   ],
   "source": [
    "df[\"locus1\"] = df[\"locus1\"].str.split(\"/\").str[0]\n",
    "df"
   ]
  },
  {
   "cell_type": "code",
   "execution_count": 8,
   "id": "540da858",
   "metadata": {},
   "outputs": [
    {
     "data": {
      "text/plain": [
       "genotype\n",
       "./.    103.333333\n",
       "0/0    121.331887\n",
       "0/1     67.265823\n",
       "1/1     33.698630\n",
       "Name: f2_count_REF, dtype: float64"
      ]
     },
     "execution_count": 8,
     "metadata": {},
     "output_type": "execute_result"
    }
   ],
   "source": [
    "df.groupby(by=\"genotype\")[\"f2_count_REF\"].mean()"
   ]
  },
  {
   "cell_type": "code",
   "execution_count": 9,
   "id": "e8fbef61",
   "metadata": {},
   "outputs": [
    {
     "data": {
      "text/html": [
       "<div>\n",
       "<style scoped>\n",
       "    .dataframe tbody tr th:only-of-type {\n",
       "        vertical-align: middle;\n",
       "    }\n",
       "\n",
       "    .dataframe tbody tr th {\n",
       "        vertical-align: top;\n",
       "    }\n",
       "\n",
       "    .dataframe thead th {\n",
       "        text-align: right;\n",
       "    }\n",
       "</style>\n",
       "<table border=\"1\" class=\"dataframe\">\n",
       "  <thead>\n",
       "    <tr style=\"text-align: right;\">\n",
       "      <th></th>\n",
       "      <th>locus1</th>\n",
       "      <th>f2_count_REF</th>\n",
       "      <th>f2_count_ALT</th>\n",
       "      <th>f2_count</th>\n",
       "      <th>locus2</th>\n",
       "      <th>genotype</th>\n",
       "    </tr>\n",
       "  </thead>\n",
       "  <tbody>\n",
       "    <tr>\n",
       "      <th>0</th>\n",
       "      <td>chr10:102885491-102885839</td>\n",
       "      <td>120</td>\n",
       "      <td>4</td>\n",
       "      <td>124</td>\n",
       "      <td>chr10:102885500</td>\n",
       "      <td>0</td>\n",
       "    </tr>\n",
       "    <tr>\n",
       "      <th>1</th>\n",
       "      <td>chr10:103337767-103338096</td>\n",
       "      <td>124</td>\n",
       "      <td>22</td>\n",
       "      <td>146</td>\n",
       "      <td>chr10:103337782</td>\n",
       "      <td>0</td>\n",
       "    </tr>\n",
       "    <tr>\n",
       "      <th>2</th>\n",
       "      <td>chr10:10451447-10451779</td>\n",
       "      <td>20</td>\n",
       "      <td>80</td>\n",
       "      <td>100</td>\n",
       "      <td>chr10:10451456</td>\n",
       "      <td>2</td>\n",
       "    </tr>\n",
       "    <tr>\n",
       "      <th>3</th>\n",
       "      <td>chr10:105917786-105918126</td>\n",
       "      <td>82</td>\n",
       "      <td>32</td>\n",
       "      <td>114</td>\n",
       "      <td>chr10:105917801</td>\n",
       "      <td>1</td>\n",
       "    </tr>\n",
       "    <tr>\n",
       "      <th>4</th>\n",
       "      <td>chr10:10666573-10666897</td>\n",
       "      <td>38</td>\n",
       "      <td>70</td>\n",
       "      <td>108</td>\n",
       "      <td>chr10:10666580</td>\n",
       "      <td>2</td>\n",
       "    </tr>\n",
       "    <tr>\n",
       "      <th>...</th>\n",
       "      <td>...</td>\n",
       "      <td>...</td>\n",
       "      <td>...</td>\n",
       "      <td>...</td>\n",
       "      <td>...</td>\n",
       "      <td>...</td>\n",
       "    </tr>\n",
       "    <tr>\n",
       "      <th>1832</th>\n",
       "      <td>chrX:88488057-88488366</td>\n",
       "      <td>16</td>\n",
       "      <td>40</td>\n",
       "      <td>56</td>\n",
       "      <td>chrX:88488072</td>\n",
       "      <td>1</td>\n",
       "    </tr>\n",
       "    <tr>\n",
       "      <th>1833</th>\n",
       "      <td>chrX:94309970-94310312</td>\n",
       "      <td>66</td>\n",
       "      <td>4</td>\n",
       "      <td>70</td>\n",
       "      <td>chrX:94309987</td>\n",
       "      <td>0</td>\n",
       "    </tr>\n",
       "    <tr>\n",
       "      <th>1834</th>\n",
       "      <td>chrX:96751638-96751966</td>\n",
       "      <td>40</td>\n",
       "      <td>12</td>\n",
       "      <td>52</td>\n",
       "      <td>chrX:96751651</td>\n",
       "      <td>0</td>\n",
       "    </tr>\n",
       "    <tr>\n",
       "      <th>1835</th>\n",
       "      <td>chrX:96939661-96939977</td>\n",
       "      <td>46</td>\n",
       "      <td>0</td>\n",
       "      <td>46</td>\n",
       "      <td>chrX:96939674</td>\n",
       "      <td>0</td>\n",
       "    </tr>\n",
       "    <tr>\n",
       "      <th>1836</th>\n",
       "      <td>chrX:98762283-98762599</td>\n",
       "      <td>80</td>\n",
       "      <td>8</td>\n",
       "      <td>88</td>\n",
       "      <td>chrX:98762292</td>\n",
       "      <td>0</td>\n",
       "    </tr>\n",
       "  </tbody>\n",
       "</table>\n",
       "<p>1837 rows × 6 columns</p>\n",
       "</div>"
      ],
      "text/plain": [
       "                         locus1  f2_count_REF  f2_count_ALT  f2_count  \\\n",
       "0     chr10:102885491-102885839           120             4       124   \n",
       "1     chr10:103337767-103338096           124            22       146   \n",
       "2       chr10:10451447-10451779            20            80       100   \n",
       "3     chr10:105917786-105918126            82            32       114   \n",
       "4       chr10:10666573-10666897            38            70       108   \n",
       "...                         ...           ...           ...       ...   \n",
       "1832     chrX:88488057-88488366            16            40        56   \n",
       "1833     chrX:94309970-94310312            66             4        70   \n",
       "1834     chrX:96751638-96751966            40            12        52   \n",
       "1835     chrX:96939661-96939977            46             0        46   \n",
       "1836     chrX:98762283-98762599            80             8        88   \n",
       "\n",
       "               locus2  genotype  \n",
       "0     chr10:102885500         0  \n",
       "1     chr10:103337782         0  \n",
       "2      chr10:10451456         2  \n",
       "3     chr10:105917801         1  \n",
       "4      chr10:10666580         2  \n",
       "...               ...       ...  \n",
       "1832    chrX:88488072         1  \n",
       "1833    chrX:94309987         0  \n",
       "1834    chrX:96751651         0  \n",
       "1835    chrX:96939674         0  \n",
       "1836    chrX:98762292         0  \n",
       "\n",
       "[1837 rows x 6 columns]"
      ]
     },
     "execution_count": 9,
     "metadata": {},
     "output_type": "execute_result"
    }
   ],
   "source": [
    "df[\"genotype\"] = df[\"genotype\"].map({\"0/0\":0,\n",
    "                             \"0/1\":1,\n",
    "                             \"1/1\":2,\n",
    "                             \"./.\":3,\n",
    "                             np.nan:4},\n",
    "                             na_action=None)\n",
    "df"
   ]
  },
  {
   "cell_type": "code",
   "execution_count": 10,
   "id": "68b60d54",
   "metadata": {},
   "outputs": [
    {
     "name": "stdout",
     "output_type": "stream",
     "text": [
      "<class 'pandas.core.frame.DataFrame'>\n",
      "RangeIndex: 1837 entries, 0 to 1836\n",
      "Data columns (total 6 columns):\n",
      " #   Column        Non-Null Count  Dtype \n",
      "---  ------        --------------  ----- \n",
      " 0   locus1        1837 non-null   object\n",
      " 1   f2_count_REF  1837 non-null   int32 \n",
      " 2   f2_count_ALT  1837 non-null   int32 \n",
      " 3   f2_count      1837 non-null   int32 \n",
      " 4   locus2        1837 non-null   object\n",
      " 5   genotype      1837 non-null   int64 \n",
      "dtypes: int32(3), int64(1), object(2)\n",
      "memory usage: 64.7+ KB\n"
     ]
    }
   ],
   "source": [
    "df.info()\n",
    "#df = df[\"genotype\"].astype(int)"
   ]
  },
  {
   "cell_type": "code",
   "execution_count": 11,
   "id": "3395858f",
   "metadata": {},
   "outputs": [
    {
     "data": {
      "text/html": [
       "<div>\n",
       "<style scoped>\n",
       "    .dataframe tbody tr th:only-of-type {\n",
       "        vertical-align: middle;\n",
       "    }\n",
       "\n",
       "    .dataframe tbody tr th {\n",
       "        vertical-align: top;\n",
       "    }\n",
       "\n",
       "    .dataframe thead th {\n",
       "        text-align: right;\n",
       "    }\n",
       "</style>\n",
       "<table border=\"1\" class=\"dataframe\">\n",
       "  <thead>\n",
       "    <tr style=\"text-align: right;\">\n",
       "      <th></th>\n",
       "      <th>locus1</th>\n",
       "      <th>count_REF_bkptr_l</th>\n",
       "      <th>count_REF_bkptr_r</th>\n",
       "      <th>count_ALT_bkptr</th>\n",
       "    </tr>\n",
       "  </thead>\n",
       "  <tbody>\n",
       "    <tr>\n",
       "      <th>0</th>\n",
       "      <td>chr10:102885491-102885839</td>\n",
       "      <td>0</td>\n",
       "      <td>0</td>\n",
       "      <td>0</td>\n",
       "    </tr>\n",
       "    <tr>\n",
       "      <th>1</th>\n",
       "      <td>chr10:103337767-103338096</td>\n",
       "      <td>0</td>\n",
       "      <td>0</td>\n",
       "      <td>0</td>\n",
       "    </tr>\n",
       "    <tr>\n",
       "      <th>2</th>\n",
       "      <td>chr10:10451447-10451779</td>\n",
       "      <td>0</td>\n",
       "      <td>0</td>\n",
       "      <td>0</td>\n",
       "    </tr>\n",
       "    <tr>\n",
       "      <th>3</th>\n",
       "      <td>chr10:105917786-105918126</td>\n",
       "      <td>0</td>\n",
       "      <td>0</td>\n",
       "      <td>0</td>\n",
       "    </tr>\n",
       "    <tr>\n",
       "      <th>4</th>\n",
       "      <td>chr10:10666573-10666897</td>\n",
       "      <td>0</td>\n",
       "      <td>0</td>\n",
       "      <td>0</td>\n",
       "    </tr>\n",
       "    <tr>\n",
       "      <th>...</th>\n",
       "      <td>...</td>\n",
       "      <td>...</td>\n",
       "      <td>...</td>\n",
       "      <td>...</td>\n",
       "    </tr>\n",
       "    <tr>\n",
       "      <th>1832</th>\n",
       "      <td>chrX:88488057-88488366</td>\n",
       "      <td>0</td>\n",
       "      <td>0</td>\n",
       "      <td>14</td>\n",
       "    </tr>\n",
       "    <tr>\n",
       "      <th>1833</th>\n",
       "      <td>chrX:94309970-94310312</td>\n",
       "      <td>7</td>\n",
       "      <td>14</td>\n",
       "      <td>0</td>\n",
       "    </tr>\n",
       "    <tr>\n",
       "      <th>1834</th>\n",
       "      <td>chrX:96751638-96751966</td>\n",
       "      <td>5</td>\n",
       "      <td>4</td>\n",
       "      <td>0</td>\n",
       "    </tr>\n",
       "    <tr>\n",
       "      <th>1835</th>\n",
       "      <td>chrX:96939661-96939977</td>\n",
       "      <td>0</td>\n",
       "      <td>13</td>\n",
       "      <td>0</td>\n",
       "    </tr>\n",
       "    <tr>\n",
       "      <th>1836</th>\n",
       "      <td>chrX:98762283-98762599</td>\n",
       "      <td>28</td>\n",
       "      <td>12</td>\n",
       "      <td>0</td>\n",
       "    </tr>\n",
       "  </tbody>\n",
       "</table>\n",
       "<p>1837 rows × 4 columns</p>\n",
       "</div>"
      ],
      "text/plain": [
       "                         locus1  count_REF_bkptr_l  count_REF_bkptr_r  \\\n",
       "0     chr10:102885491-102885839                  0                  0   \n",
       "1     chr10:103337767-103338096                  0                  0   \n",
       "2       chr10:10451447-10451779                  0                  0   \n",
       "3     chr10:105917786-105918126                  0                  0   \n",
       "4       chr10:10666573-10666897                  0                  0   \n",
       "...                         ...                ...                ...   \n",
       "1832     chrX:88488057-88488366                  0                  0   \n",
       "1833     chrX:94309970-94310312                  7                 14   \n",
       "1834     chrX:96751638-96751966                  5                  4   \n",
       "1835     chrX:96939661-96939977                  0                 13   \n",
       "1836     chrX:98762283-98762599                 28                 12   \n",
       "\n",
       "      count_ALT_bkptr  \n",
       "0                   0  \n",
       "1                   0  \n",
       "2                   0  \n",
       "3                   0  \n",
       "4                   0  \n",
       "...               ...  \n",
       "1832               14  \n",
       "1833                0  \n",
       "1834                0  \n",
       "1835                0  \n",
       "1836                0  \n",
       "\n",
       "[1837 rows x 4 columns]"
      ]
     },
     "execution_count": 11,
     "metadata": {},
     "output_type": "execute_result"
    }
   ],
   "source": [
    "f2 = \"HG129_overlap_bkpt_MAPQ1.txt\"\n",
    "df_breakpoints = pd.read_csv(f2, sep=\",\", header=None)\n",
    "\n",
    "df_breakpoints.columns = [\"locus1\", \"count_REF_bkptr_l\", \"count_REF_bkptr_r\", \"count_ALT_bkptr\"]\n",
    "df_breakpoints\n"
   ]
  },
  {
   "cell_type": "code",
   "execution_count": 13,
   "id": "693cebce",
   "metadata": {},
   "outputs": [
    {
     "data": {
      "text/plain": [
       "array([[120,   4, 124,   0,   0,   0],\n",
       "       [124,  22, 146,   0,   0,   0],\n",
       "       [ 20,  80, 100,   0,   0,   0],\n",
       "       ...,\n",
       "       [ 40,  12,  52,   5,   4,   0],\n",
       "       [ 46,   0,  46,   0,  13,   0],\n",
       "       [ 80,   8,  88,  28,  12,   0]], dtype=int64)"
      ]
     },
     "execution_count": 13,
     "metadata": {},
     "output_type": "execute_result"
    }
   ],
   "source": [
    "##: Mystery: This cell needs to be run twice to run properly\n",
    "df = df.merge(df_breakpoints, on = 'locus1', how = 'left')\n",
    "y = df[\"genotype\"].to_numpy()\n",
    "X = df[[\"f2_count_REF\", \"f2_count_ALT\", \"f2_count\", \"count_REF_bkptr_l_x\", \"count_REF_bkptr_r_x\", \"count_ALT_bkptr_x\"]].to_numpy()\n",
    "#X = df.iloc[:, 1:4].to_numpy()\n",
    "X"
   ]
  },
  {
   "cell_type": "code",
   "execution_count": null,
   "id": "539b0aca",
   "metadata": {},
   "outputs": [],
   "source": []
  },
  {
   "cell_type": "markdown",
   "id": "91dde908",
   "metadata": {},
   "source": [
    "### A function for plotting the importance of features"
   ]
  },
  {
   "cell_type": "code",
   "execution_count": 14,
   "id": "900449ec",
   "metadata": {},
   "outputs": [],
   "source": [
    "features_names = [\"# of reads mapped in proper pair on the REF\", \"# of reads mapped in proper pair on the ALT\" ,\"# of reads mapped in proper pair\", \"REF: # of reads that spans left breakpoint (500bp position)\",  \"REF: # of reads that spans right breakpoint\", \"ALT: # of reads that spans 500bp position\"]\n",
    "def feature_importances(coef, names):\n",
    "    imp = coef\n",
    "    imp, names = zip(*sorted(zip(imp,names)))\n",
    "    plt.barh(range(len(names)), imp, align='center')\n",
    "    plt.yticks(range(len(names)), names)\n",
    "    plt.show()"
   ]
  },
  {
   "cell_type": "markdown",
   "id": "8fda2dc8",
   "metadata": {},
   "source": [
    "## Logistic regression"
   ]
  },
  {
   "cell_type": "code",
   "execution_count": 15,
   "id": "078268f0",
   "metadata": {},
   "outputs": [
    {
     "data": {
      "text/plain": [
       "array([[ 72,  48, 120,  20,  12,  14],\n",
       "       [ 36,  88, 124,   0,   0,  31],\n",
       "       [138,  30, 168,  29,  24,   0],\n",
       "       ...,\n",
       "       [ 24,  48,  72,   0,   0,  15],\n",
       "       [162,  16, 178,  37,  27,   0],\n",
       "       [ 36,  56,  92,   0,   0,  22]], dtype=int64)"
      ]
     },
     "execution_count": 15,
     "metadata": {},
     "output_type": "execute_result"
    }
   ],
   "source": [
    "X_train, X_test, y_train, y_test = train_test_split(\n",
    "                        X, y, test_size=0.2)\n",
    "X_train"
   ]
  },
  {
   "cell_type": "code",
   "execution_count": 16,
   "id": "581023e9",
   "metadata": {},
   "outputs": [],
   "source": [
    "# To generate the same test set every time, set \"random_state=42\"\n",
    "# Normalizing data\n",
    "mean = X_train.mean()\n",
    "std = X_train.std()\n",
    "X_train = (X_train - mean) / std\n",
    "X_test = (X_test - mean) / std"
   ]
  },
  {
   "cell_type": "code",
   "execution_count": 17,
   "id": "c8c30169",
   "metadata": {},
   "outputs": [
    {
     "name": "stderr",
     "output_type": "stream",
     "text": [
      "C:\\Users\\Yumika\\anaconda3-2\\lib\\site-packages\\sklearn\\linear_model\\_logistic.py:763: ConvergenceWarning: lbfgs failed to converge (status=1):\n",
      "STOP: TOTAL NO. of ITERATIONS REACHED LIMIT.\n",
      "\n",
      "Increase the number of iterations (max_iter) or scale the data as shown in:\n",
      "    https://scikit-learn.org/stable/modules/preprocessing.html\n",
      "Please also refer to the documentation for alternative solver options:\n",
      "    https://scikit-learn.org/stable/modules/linear_model.html#logistic-regression\n",
      "  n_iter_i = _check_optimize_result(\n"
     ]
    }
   ],
   "source": [
    "clf_logi = LogisticRegression(penalty=\"l2\", random_state=0).fit(X_train, y_train)\n",
    "y_pred = clf_logi.predict(X_test)"
   ]
  },
  {
   "cell_type": "code",
   "execution_count": 18,
   "id": "01f84041",
   "metadata": {},
   "outputs": [
    {
     "name": "stdout",
     "output_type": "stream",
     "text": [
      "[[180   2   0]\n",
      " [  2  85  18]\n",
      " [  1  13  67]]\n",
      "              precision    recall  f1-score   support\n",
      "\n",
      "           0       0.98      0.99      0.99       182\n",
      "           1       0.85      0.81      0.83       105\n",
      "           2       0.79      0.83      0.81        81\n",
      "\n",
      "    accuracy                           0.90       368\n",
      "   macro avg       0.87      0.88      0.87       368\n",
      "weighted avg       0.90      0.90      0.90       368\n",
      "\n",
      "0.9021739130434783\n"
     ]
    }
   ],
   "source": [
    "print(confusion_matrix(y_test,y_pred))\n",
    "print(classification_report(y_test,y_pred))\n",
    "print(accuracy_score(y_test, y_pred))"
   ]
  },
  {
   "cell_type": "code",
   "execution_count": 19,
   "id": "1aceef91",
   "metadata": {},
   "outputs": [
    {
     "name": "stdout",
     "output_type": "stream",
     "text": [
      "[[ 3.23493609 -5.05206119 -1.81650556  1.86346363  1.96980374 -3.48836233]\n",
      " [-0.72022192  0.88345674  0.16840081 -0.56699835 -0.19100138  0.50608876]\n",
      " [-2.91585847  3.35106447  0.43040701 -1.17822238 -1.62541524  3.05375695]\n",
      " [ 0.40114431  0.81753998  1.21769774 -0.1182429  -0.15338711 -0.07148338]]\n"
     ]
    },
    {
     "data": {
      "image/png": "[encoded data removed]",
      "text/plain": [
       "<Figure size 432x288 with 1 Axes>"
      ]
     },
     "metadata": {
      "needs_background": "light"
     },
     "output_type": "display_data"
    }
   ],
   "source": [
    "print(clf_logi.coef_)\n",
    "feature_importances(clf_logi.coef_[0], features_names)"
   ]
  },
  {
   "cell_type": "code",
   "execution_count": 20,
   "id": "21823c1b",
   "metadata": {},
   "outputs": [
    {
     "name": "stderr",
     "output_type": "stream",
     "text": [
      "C:\\Users\\Yumika\\anaconda3-2\\lib\\site-packages\\sklearn\\model_selection\\_split.py:666: UserWarning: The least populated class in y has only 3 members, which is less than n_splits=5.\n",
      "  warnings.warn((\"The least populated class in y has only %d\"\n",
      "C:\\Users\\Yumika\\anaconda3-2\\lib\\site-packages\\sklearn\\linear_model\\_logistic.py:763: ConvergenceWarning: lbfgs failed to converge (status=1):\n",
      "STOP: TOTAL NO. of ITERATIONS REACHED LIMIT.\n",
      "\n",
      "Increase the number of iterations (max_iter) or scale the data as shown in:\n",
      "    https://scikit-learn.org/stable/modules/preprocessing.html\n",
      "Please also refer to the documentation for alternative solver options:\n",
      "    https://scikit-learn.org/stable/modules/linear_model.html#logistic-regression\n",
      "  n_iter_i = _check_optimize_result(\n",
      "C:\\Users\\Yumika\\anaconda3-2\\lib\\site-packages\\sklearn\\linear_model\\_logistic.py:763: ConvergenceWarning: lbfgs failed to converge (status=1):\n",
      "STOP: TOTAL NO. of ITERATIONS REACHED LIMIT.\n",
      "\n",
      "Increase the number of iterations (max_iter) or scale the data as shown in:\n",
      "    https://scikit-learn.org/stable/modules/preprocessing.html\n",
      "Please also refer to the documentation for alternative solver options:\n",
      "    https://scikit-learn.org/stable/modules/linear_model.html#logistic-regression\n",
      "  n_iter_i = _check_optimize_result(\n",
      "C:\\Users\\Yumika\\anaconda3-2\\lib\\site-packages\\sklearn\\linear_model\\_logistic.py:763: ConvergenceWarning: lbfgs failed to converge (status=1):\n",
      "STOP: TOTAL NO. of ITERATIONS REACHED LIMIT.\n",
      "\n",
      "Increase the number of iterations (max_iter) or scale the data as shown in:\n",
      "    https://scikit-learn.org/stable/modules/preprocessing.html\n",
      "Please also refer to the documentation for alternative solver options:\n",
      "    https://scikit-learn.org/stable/modules/linear_model.html#logistic-regression\n",
      "  n_iter_i = _check_optimize_result(\n"
     ]
    },
    {
     "name": "stdout",
     "output_type": "stream",
     "text": [
      "0.9258155139188782\n"
     ]
    }
   ],
   "source": [
    "# 5-fold cross-validation\n",
    "scores_logi = cross_val_score(clf_logi, X_train, y_train, cv=5)\n",
    "print(scores_logi.mean())"
   ]
  },
  {
   "cell_type": "markdown",
   "id": "fa353828",
   "metadata": {},
   "source": [
    "## Random Forest"
   ]
  },
  {
   "cell_type": "code",
   "execution_count": 21,
   "id": "c2531878",
   "metadata": {},
   "outputs": [],
   "source": [
    "X_train, X_test, y_train, y_test = train_test_split(\n",
    "                        X, y, test_size=0.2)\n",
    "# To generate the same test set every time, set \"random_state=42\"\n",
    "# Normalizing data\n",
    "mean = X_train.mean()\n",
    "std = X_train.std()\n",
    "X_train = (X_train - mean) / std\n",
    "X_test = (X_test - mean) / std"
   ]
  },
  {
   "cell_type": "code",
   "execution_count": 22,
   "id": "3ea08170",
   "metadata": {},
   "outputs": [],
   "source": [
    "clf_rf = RandomForestClassifier(n_estimators=20, random_state=0)\n",
    "clf_rf.fit(X_train, y_train)\n",
    "y_pred = clf_rf.predict(X_test)"
   ]
  },
  {
   "cell_type": "code",
   "execution_count": 23,
   "id": "cef80288",
   "metadata": {},
   "outputs": [
    {
     "name": "stdout",
     "output_type": "stream",
     "text": [
      "[[190   0   0]\n",
      " [  2  84   3]\n",
      " [  2   5  82]]\n",
      "              precision    recall  f1-score   support\n",
      "\n",
      "           0       0.98      1.00      0.99       190\n",
      "           1       0.94      0.94      0.94        89\n",
      "           2       0.96      0.92      0.94        89\n",
      "\n",
      "    accuracy                           0.97       368\n",
      "   macro avg       0.96      0.96      0.96       368\n",
      "weighted avg       0.97      0.97      0.97       368\n",
      "\n",
      "0.967391304347826\n"
     ]
    }
   ],
   "source": [
    "print(confusion_matrix(y_test,y_pred))\n",
    "print(classification_report(y_test,y_pred))\n",
    "print(accuracy_score(y_test, y_pred))"
   ]
  },
  {
   "cell_type": "code",
   "execution_count": 24,
   "id": "bf5fd21f",
   "metadata": {},
   "outputs": [
    {
     "name": "stderr",
     "output_type": "stream",
     "text": [
      "C:\\Users\\Yumika\\anaconda3-2\\lib\\site-packages\\sklearn\\model_selection\\_split.py:666: UserWarning: The least populated class in y has only 3 members, which is less than n_splits=5.\n",
      "  warnings.warn((\"The least populated class in y has only %d\"\n"
     ]
    },
    {
     "name": "stdout",
     "output_type": "stream",
     "text": [
      "0.9441573216317245\n"
     ]
    }
   ],
   "source": [
    "# 5-fold cross-validation\n",
    "scores_rf = cross_val_score(clf_rf, X_train, y_train, cv=5)\n",
    "print(scores_rf.mean())"
   ]
  },
  {
   "cell_type": "markdown",
   "id": "cba57bb1",
   "metadata": {},
   "source": [
    "## SVM - Support Vector Machine"
   ]
  },
  {
   "cell_type": "markdown",
   "id": "4cef97ec",
   "metadata": {},
   "source": [
    "### Using linear (with linear boundary) as kernel"
   ]
  },
  {
   "cell_type": "code",
   "execution_count": 25,
   "id": "d21b8c50",
   "metadata": {},
   "outputs": [
    {
     "data": {
      "text/plain": [
       "'pred=model.predict(x_test)\\nModel Evaluation\\n# Importing the classification report and confusion matrix\\n\\nprint(confusion_matrix(y_test,pred))\\n[[17  0  0]\\n [ 0 16  0]\\n [ 0  0 12]]\\nprint(classification_report(y_test, pred))'"
      ]
     },
     "execution_count": 25,
     "metadata": {},
     "output_type": "execute_result"
    }
   ],
   "source": [
    "\"\"\"pred=model.predict(x_test)\n",
    "Model Evaluation\n",
    "# Importing the classification report and confusion matrix\n",
    "\n",
    "print(confusion_matrix(y_test,pred))\n",
    "[[17  0  0]\n",
    " [ 0 16  0]\n",
    " [ 0  0 12]]\n",
    "print(classification_report(y_test, pred))\"\"\""
   ]
  },
  {
   "cell_type": "code",
   "execution_count": 26,
   "id": "54cde55e",
   "metadata": {},
   "outputs": [],
   "source": [
    "X_train, X_test, y_train, y_test = train_test_split(\n",
    "                        X, y, test_size=0.2)\n",
    "# To generate the same test set every time, set \"random_state=42\""
   ]
  },
  {
   "cell_type": "code",
   "execution_count": 27,
   "id": "951eb1b9",
   "metadata": {},
   "outputs": [],
   "source": [
    "# Normalizing data\n",
    "mean = X_train.mean()\n",
    "std = X_train.std()\n",
    "X_train = (X_train - mean) / std\n",
    "X_test = (X_test - mean) / std"
   ]
  },
  {
   "cell_type": "code",
   "execution_count": 28,
   "id": "b0607e20",
   "metadata": {},
   "outputs": [
    {
     "name": "stdout",
     "output_type": "stream",
     "text": [
      "0.9155998235471664\n"
     ]
    },
    {
     "name": "stderr",
     "output_type": "stream",
     "text": [
      "C:\\Users\\Yumika\\anaconda3-2\\lib\\site-packages\\sklearn\\model_selection\\_split.py:666: UserWarning: The least populated class in y has only 3 members, which is less than n_splits=5.\n",
      "  warnings.warn((\"The least populated class in y has only %d\"\n"
     ]
    }
   ],
   "source": [
    "clf = svm.SVC(kernel=\"linear\", C=1, max_iter=1000)\n",
    "# 5-fold cross-validation\n",
    "scores = cross_val_score(clf, X_train, y_train, cv=5)\n",
    "print(scores.mean())"
   ]
  },
  {
   "cell_type": "code",
   "execution_count": 29,
   "id": "4be816e4",
   "metadata": {},
   "outputs": [
    {
     "name": "stdout",
     "output_type": "stream",
     "text": [
      "[[ 1.87741573e+00 -2.83662111e+00 -9.59205382e-01  1.54818112e+00\n",
      "   1.11673343e+00 -4.00984760e+00]\n",
      " [ 1.68681448e+00 -2.23503598e+00 -5.48221504e-01  1.06415225e+00\n",
      "   1.63766911e+00 -1.24524718e+00]\n",
      " [ 2.66396516e-01 -5.36050221e-01 -2.69653705e-01  1.35945034e-01\n",
      "   3.99821637e-01 -3.80897707e-01]\n",
      " [ 6.18477932e-01 -7.55787698e-01 -1.37309766e-01  1.62107664e+00\n",
      "   1.94989245e+00 -3.47839263e+00]\n",
      " [ 1.04235142e-03 -2.94004590e-03 -1.89769448e-03 -5.44127811e-04\n",
      "  -3.74679038e-03  1.27026326e-02]\n",
      " [-4.49361057e-01  1.81986160e-01 -2.67374897e-01  1.79037617e-01\n",
      "   5.54992234e-02  5.41336985e-01]]\n"
     ]
    },
    {
     "data": {
      "image/png": "[encoded data removed]",
      "text/plain": [
       "<Figure size 432x288 with 1 Axes>"
      ]
     },
     "metadata": {
      "needs_background": "light"
     },
     "output_type": "display_data"
    },
    {
     "data": {
      "text/plain": [
       "array([0, 0, 0, 0, 2, 2, 1, 1, 0, 2, 0, 1, 0, 0, 0, 0, 2, 2, 2, 0, 0, 1,\n",
       "       2, 0, 2, 0, 0, 0, 1, 0, 2, 0, 0, 0, 0, 2, 0, 1, 1, 0, 0, 1, 0, 0,\n",
       "       1, 0, 2, 2, 2, 0, 2, 1, 2, 2, 0, 0, 0, 2, 0, 2, 0, 1, 1, 0, 0, 0,\n",
       "       0, 0, 2, 0, 2, 0, 1, 1, 1, 0, 0, 1, 0, 0, 0, 0, 1, 1, 2, 2, 0, 1,\n",
       "       0, 0, 2, 2, 1, 1, 0, 0, 1, 0, 1, 1, 0, 1, 0, 2, 1, 0, 0, 0, 0, 2,\n",
       "       0, 0, 0, 0, 1, 2, 0, 0, 0, 2, 0, 1, 0, 0, 1, 1, 1, 0, 1, 0, 2, 2,\n",
       "       0, 2, 0, 0, 1, 0, 0, 2, 0, 0, 0, 0, 1, 2, 0, 2, 2, 1, 0, 0, 1, 0,\n",
       "       1, 1, 0, 0, 0, 0, 1, 1, 0, 1, 2, 1, 0, 0, 1, 1, 0, 0, 0, 0, 1, 1,\n",
       "       0, 0, 1, 0, 2, 0, 0, 0, 0, 0, 2, 2, 1, 0, 1, 0, 2, 2, 0, 0, 0, 2,\n",
       "       1, 0, 1, 0, 0, 1, 1, 0, 0, 0, 0, 0, 0, 0, 0, 2, 0, 1, 0, 1, 0, 0,\n",
       "       1, 1, 2, 0, 2, 0, 1, 0, 1, 0, 0, 2, 1, 2, 0, 0, 2, 0, 0, 2, 0, 2,\n",
       "       0, 0, 2, 2, 0, 0, 2, 0, 2, 1, 0, 1, 0, 1, 2, 0, 0, 0, 1, 0, 1, 1,\n",
       "       0, 0, 2, 2, 2, 0, 2, 1, 0, 1, 1, 0, 0, 1, 2, 0, 1, 2, 0, 2, 1, 2,\n",
       "       2, 0, 0, 0, 0, 0, 2, 1, 1, 0, 1, 1, 1, 2, 0, 2, 0, 2, 2, 0, 1, 2,\n",
       "       2, 1, 1, 0, 0, 0, 0, 1, 2, 0, 2, 1, 0, 0, 1, 2, 1, 2, 0, 2, 2, 0,\n",
       "       1, 2, 0, 0, 1, 0, 2, 2, 1, 2, 1, 0, 2, 0, 0, 2, 0, 0, 2, 0, 0, 2,\n",
       "       0, 0, 0, 2, 0, 1, 2, 1, 2, 2, 2, 1, 0, 0, 1, 1], dtype=int64)"
      ]
     },
     "execution_count": 29,
     "metadata": {},
     "output_type": "execute_result"
    }
   ],
   "source": [
    "clf = svm.SVC(kernel=\"linear\", C=1, max_iter=1000)\n",
    "svm_lin = clf.fit(X_train, y_train)\n",
    "print(svm_lin.coef_)\n",
    "feature_importances(svm_lin.coef_[0], features_names)\n",
    "\n",
    "\n",
    "pred_lin = clf.predict(X_test)\n",
    "pred_lin"
   ]
  },
  {
   "cell_type": "code",
   "execution_count": 30,
   "id": "46880e2e",
   "metadata": {},
   "outputs": [
    {
     "name": "stdout",
     "output_type": "stream",
     "text": [
      "[[183   3   0]\n",
      " [  2  83   6]\n",
      " [  0   7  84]]\n",
      "              precision    recall  f1-score   support\n",
      "\n",
      "           0       0.99      0.98      0.99       186\n",
      "           1       0.89      0.91      0.90        91\n",
      "           2       0.93      0.92      0.93        91\n",
      "\n",
      "    accuracy                           0.95       368\n",
      "   macro avg       0.94      0.94      0.94       368\n",
      "weighted avg       0.95      0.95      0.95       368\n",
      "\n",
      "0.9510869565217391\n"
     ]
    }
   ],
   "source": [
    "# Evaluate the model\n",
    "print(confusion_matrix(y_test, pred_lin))\n",
    "print(classification_report(y_test, pred_lin))\n",
    "print(accuracy_score(y_test, pred_lin))"
   ]
  },
  {
   "cell_type": "markdown",
   "id": "c862a716",
   "metadata": {},
   "source": [
    "### Using rbf (with non-linear boundary) as kernel"
   ]
  },
  {
   "cell_type": "code",
   "execution_count": 31,
   "id": "b0648119",
   "metadata": {},
   "outputs": [
    {
     "name": "stderr",
     "output_type": "stream",
     "text": [
      "C:\\Users\\Yumika\\anaconda3-2\\lib\\site-packages\\sklearn\\model_selection\\_split.py:666: UserWarning: The least populated class in y has only 3 members, which is less than n_splits=5.\n",
      "  warnings.warn((\"The least populated class in y has only %d\"\n"
     ]
    },
    {
     "name": "stdout",
     "output_type": "stream",
     "text": [
      "0.9169510807736063\n"
     ]
    }
   ],
   "source": [
    "# Using kernel, rbf\n",
    "clf = svm.SVC(kernel=\"rbf\")\n",
    "#clf.fit(X_train, y_train)\n",
    "scores = cross_val_score(clf, X_train, y_train, cv=5)\n",
    "print(scores.mean())\n",
    "#print('Accuracy of linear SVC on training set: {:.3f}'.format(clf.score(X_train, y_train)))\n",
    "#print('Accuracy of linear SVC on test set: {:.3f}'.format(clf.score(X_test, y_test)))"
   ]
  },
  {
   "cell_type": "code",
   "execution_count": 32,
   "id": "58c582ef",
   "metadata": {},
   "outputs": [
    {
     "data": {
      "text/plain": [
       "array([0, 0, 0, 0, 2, 2, 1, 1, 0, 2, 0, 1, 0, 0, 0, 0, 2, 2, 2, 0, 0, 1,\n",
       "       2, 0, 2, 0, 0, 0, 1, 0, 2, 0, 0, 0, 0, 2, 0, 1, 1, 0, 0, 1, 0, 0,\n",
       "       1, 0, 2, 1, 2, 0, 2, 1, 2, 2, 0, 0, 0, 2, 0, 2, 0, 1, 1, 0, 0, 0,\n",
       "       0, 0, 2, 0, 2, 0, 1, 1, 1, 0, 0, 1, 0, 0, 0, 0, 1, 1, 2, 2, 0, 1,\n",
       "       0, 0, 2, 2, 1, 1, 0, 0, 1, 0, 1, 1, 0, 1, 0, 2, 1, 0, 0, 0, 0, 2,\n",
       "       0, 0, 0, 0, 1, 2, 0, 0, 0, 2, 0, 1, 0, 0, 1, 1, 1, 0, 1, 0, 2, 2,\n",
       "       0, 2, 0, 0, 1, 0, 0, 2, 0, 0, 0, 0, 1, 2, 0, 2, 2, 1, 0, 0, 1, 0,\n",
       "       1, 1, 0, 0, 0, 0, 2, 1, 0, 1, 2, 1, 0, 0, 1, 1, 0, 0, 0, 0, 1, 1,\n",
       "       0, 0, 1, 0, 2, 0, 0, 0, 0, 0, 2, 2, 1, 0, 1, 0, 2, 2, 0, 0, 0, 2,\n",
       "       0, 0, 1, 0, 0, 1, 1, 0, 0, 0, 0, 0, 0, 0, 0, 2, 0, 1, 0, 1, 0, 0,\n",
       "       1, 1, 2, 0, 2, 0, 1, 0, 1, 0, 0, 2, 1, 2, 0, 0, 2, 0, 0, 2, 0, 2,\n",
       "       0, 0, 2, 2, 0, 0, 2, 0, 2, 1, 0, 1, 0, 1, 2, 0, 0, 0, 1, 0, 1, 1,\n",
       "       0, 0, 2, 2, 2, 0, 2, 1, 0, 1, 1, 0, 0, 1, 2, 0, 1, 2, 0, 2, 1, 2,\n",
       "       2, 0, 0, 0, 0, 0, 2, 1, 1, 0, 1, 1, 1, 2, 0, 2, 0, 2, 2, 0, 1, 2,\n",
       "       2, 0, 1, 0, 0, 0, 0, 1, 2, 0, 2, 1, 0, 0, 1, 1, 1, 2, 0, 2, 2, 0,\n",
       "       1, 2, 0, 0, 1, 0, 2, 2, 1, 2, 1, 0, 2, 0, 0, 2, 0, 0, 2, 0, 0, 2,\n",
       "       0, 0, 0, 2, 0, 1, 2, 1, 2, 2, 2, 1, 0, 0, 1, 1], dtype=int64)"
      ]
     },
     "execution_count": 32,
     "metadata": {},
     "output_type": "execute_result"
    }
   ],
   "source": [
    "clf = svm.SVC(kernel=\"rbf\", C=1, max_iter=1000)\n",
    "svm_lin = clf.fit(X_train, y_train)\n",
    "pred_lin = clf.predict(X_test)\n",
    "pred_lin"
   ]
  },
  {
   "cell_type": "code",
   "execution_count": 33,
   "id": "13c5261e",
   "metadata": {},
   "outputs": [
    {
     "name": "stdout",
     "output_type": "stream",
     "text": [
      "[[184   2   0]\n",
      " [  3  83   5]\n",
      " [  0   7  84]]\n",
      "              precision    recall  f1-score   support\n",
      "\n",
      "           0       0.98      0.99      0.99       186\n",
      "           1       0.90      0.91      0.91        91\n",
      "           2       0.94      0.92      0.93        91\n",
      "\n",
      "    accuracy                           0.95       368\n",
      "   macro avg       0.94      0.94      0.94       368\n",
      "weighted avg       0.95      0.95      0.95       368\n",
      "\n",
      "0.9538043478260869\n"
     ]
    }
   ],
   "source": [
    "# Evaluate the model\n",
    "print(confusion_matrix(y_test, pred_lin))\n",
    "print(classification_report(y_test, pred_lin))\n",
    "print(accuracy_score(y_test, pred_lin))"
   ]
  },
  {
   "cell_type": "markdown",
   "id": "ac145f4b",
   "metadata": {},
   "source": [
    "## DNN - Deep Neural Network"
   ]
  },
  {
   "cell_type": "code",
   "execution_count": 34,
   "id": "10edb9f2",
   "metadata": {},
   "outputs": [
    {
     "ename": "ValueError",
     "evalue": "Shape of passed values is (1837, 6), indices imply (1837, 3)",
     "output_type": "error",
     "traceback": [
      "\u001b[1;31m---------------------------------------------------------------------------\u001b[0m",
      "\u001b[1;31mValueError\u001b[0m                                Traceback (most recent call last)",
      "File \u001b[1;32m~\\anaconda3-2\\lib\\site-packages\\pandas\\core\\internals\\managers.py:1675\u001b[0m, in \u001b[0;36mcreate_block_manager_from_blocks\u001b[1;34m(blocks, axes)\u001b[0m\n\u001b[0;32m   1670\u001b[0m     \u001b[38;5;28;01melse\u001b[39;00m:\n\u001b[0;32m   1671\u001b[0m         \u001b[38;5;66;03m# It's OK if a single block is passed as values, its placement\u001b[39;00m\n\u001b[0;32m   1672\u001b[0m         \u001b[38;5;66;03m# is basically \"all items\", but if there're many, don't bother\u001b[39;00m\n\u001b[0;32m   1673\u001b[0m         \u001b[38;5;66;03m# converting, it's an error anyway.\u001b[39;00m\n\u001b[0;32m   1674\u001b[0m         blocks \u001b[38;5;241m=\u001b[39m [\n\u001b[1;32m-> 1675\u001b[0m             \u001b[43mmake_block\u001b[49m\u001b[43m(\u001b[49m\n\u001b[0;32m   1676\u001b[0m \u001b[43m                \u001b[49m\u001b[43mvalues\u001b[49m\u001b[38;5;241;43m=\u001b[39;49m\u001b[43mblocks\u001b[49m\u001b[43m[\u001b[49m\u001b[38;5;241;43m0\u001b[39;49m\u001b[43m]\u001b[49m\u001b[43m,\u001b[49m\u001b[43m \u001b[49m\u001b[43mplacement\u001b[49m\u001b[38;5;241;43m=\u001b[39;49m\u001b[38;5;28;43mslice\u001b[39;49m\u001b[43m(\u001b[49m\u001b[38;5;241;43m0\u001b[39;49m\u001b[43m,\u001b[49m\u001b[43m \u001b[49m\u001b[38;5;28;43mlen\u001b[39;49m\u001b[43m(\u001b[49m\u001b[43maxes\u001b[49m\u001b[43m[\u001b[49m\u001b[38;5;241;43m0\u001b[39;49m\u001b[43m]\u001b[49m\u001b[43m)\u001b[49m\u001b[43m)\u001b[49m\u001b[43m,\u001b[49m\u001b[43m \u001b[49m\u001b[43mndim\u001b[49m\u001b[38;5;241;43m=\u001b[39;49m\u001b[38;5;241;43m2\u001b[39;49m\n\u001b[0;32m   1677\u001b[0m \u001b[43m            \u001b[49m\u001b[43m)\u001b[49m\n\u001b[0;32m   1678\u001b[0m         ]\n\u001b[0;32m   1680\u001b[0m mgr \u001b[38;5;241m=\u001b[39m BlockManager(blocks, axes)\n",
      "File \u001b[1;32m~\\anaconda3-2\\lib\\site-packages\\pandas\\core\\internals\\blocks.py:2742\u001b[0m, in \u001b[0;36mmake_block\u001b[1;34m(values, placement, klass, ndim, dtype)\u001b[0m\n\u001b[0;32m   2740\u001b[0m     values \u001b[38;5;241m=\u001b[39m DatetimeArray\u001b[38;5;241m.\u001b[39m_simple_new(values, dtype\u001b[38;5;241m=\u001b[39mdtype)\n\u001b[1;32m-> 2742\u001b[0m \u001b[38;5;28;01mreturn\u001b[39;00m \u001b[43mklass\u001b[49m\u001b[43m(\u001b[49m\u001b[43mvalues\u001b[49m\u001b[43m,\u001b[49m\u001b[43m \u001b[49m\u001b[43mndim\u001b[49m\u001b[38;5;241;43m=\u001b[39;49m\u001b[43mndim\u001b[49m\u001b[43m,\u001b[49m\u001b[43m \u001b[49m\u001b[43mplacement\u001b[49m\u001b[38;5;241;43m=\u001b[39;49m\u001b[43mplacement\u001b[49m\u001b[43m)\u001b[49m\n",
      "File \u001b[1;32m~\\anaconda3-2\\lib\\site-packages\\pandas\\core\\internals\\blocks.py:142\u001b[0m, in \u001b[0;36mBlock.__init__\u001b[1;34m(self, values, placement, ndim)\u001b[0m\n\u001b[0;32m    141\u001b[0m \u001b[38;5;28;01mif\u001b[39;00m \u001b[38;5;28mself\u001b[39m\u001b[38;5;241m.\u001b[39m_validate_ndim \u001b[38;5;129;01mand\u001b[39;00m \u001b[38;5;28mself\u001b[39m\u001b[38;5;241m.\u001b[39mndim \u001b[38;5;129;01mand\u001b[39;00m \u001b[38;5;28mlen\u001b[39m(\u001b[38;5;28mself\u001b[39m\u001b[38;5;241m.\u001b[39mmgr_locs) \u001b[38;5;241m!=\u001b[39m \u001b[38;5;28mlen\u001b[39m(\u001b[38;5;28mself\u001b[39m\u001b[38;5;241m.\u001b[39mvalues):\n\u001b[1;32m--> 142\u001b[0m     \u001b[38;5;28;01mraise\u001b[39;00m \u001b[38;5;167;01mValueError\u001b[39;00m(\n\u001b[0;32m    143\u001b[0m         \u001b[38;5;124mf\u001b[39m\u001b[38;5;124m\"\u001b[39m\u001b[38;5;124mWrong number of items passed \u001b[39m\u001b[38;5;132;01m{\u001b[39;00m\u001b[38;5;28mlen\u001b[39m(\u001b[38;5;28mself\u001b[39m\u001b[38;5;241m.\u001b[39mvalues)\u001b[38;5;132;01m}\u001b[39;00m\u001b[38;5;124m, \u001b[39m\u001b[38;5;124m\"\u001b[39m\n\u001b[0;32m    144\u001b[0m         \u001b[38;5;124mf\u001b[39m\u001b[38;5;124m\"\u001b[39m\u001b[38;5;124mplacement implies \u001b[39m\u001b[38;5;132;01m{\u001b[39;00m\u001b[38;5;28mlen\u001b[39m(\u001b[38;5;28mself\u001b[39m\u001b[38;5;241m.\u001b[39mmgr_locs)\u001b[38;5;132;01m}\u001b[39;00m\u001b[38;5;124m\"\u001b[39m\n\u001b[0;32m    145\u001b[0m     )\n",
      "\u001b[1;31mValueError\u001b[0m: Wrong number of items passed 6, placement implies 3",
      "\nDuring handling of the above exception, another exception occurred:\n",
      "\u001b[1;31mValueError\u001b[0m                                Traceback (most recent call last)",
      "Input \u001b[1;32mIn [34]\u001b[0m, in \u001b[0;36m<module>\u001b[1;34m\u001b[0m\n\u001b[0;32m      1\u001b[0m encoder \u001b[38;5;241m=\u001b[39m LabelBinarizer()\n\u001b[0;32m      2\u001b[0m seed \u001b[38;5;241m=\u001b[39m \u001b[38;5;241m42\u001b[39m\n\u001b[1;32m----> 4\u001b[0m df_GIAB_2_X \u001b[38;5;241m=\u001b[39m \u001b[43mpd\u001b[49m\u001b[38;5;241;43m.\u001b[39;49m\u001b[43mDataFrame\u001b[49m\u001b[43m(\u001b[49m\u001b[43mdata\u001b[49m\u001b[38;5;241;43m=\u001b[39;49m\u001b[43mX\u001b[49m\u001b[43m,\u001b[49m\u001b[43m \u001b[49m\u001b[43mcolumns\u001b[49m\u001b[38;5;241;43m=\u001b[39;49m\u001b[43m[\u001b[49m\u001b[38;5;124;43m\"\u001b[39;49m\u001b[38;5;124;43mf2_count_REF\u001b[39;49m\u001b[38;5;124;43m\"\u001b[39;49m\u001b[43m,\u001b[49m\u001b[43m \u001b[49m\u001b[38;5;124;43m\"\u001b[39;49m\u001b[38;5;124;43mf2_count_ALT\u001b[39;49m\u001b[38;5;124;43m\"\u001b[39;49m\u001b[43m,\u001b[49m\u001b[43m \u001b[49m\u001b[38;5;124;43m\"\u001b[39;49m\u001b[38;5;124;43mf2_count\u001b[39;49m\u001b[38;5;124;43m\"\u001b[39;49m\u001b[43m]\u001b[49m\u001b[43m,\u001b[49m\n\u001b[0;32m      5\u001b[0m \u001b[43m                       \u001b[49m\u001b[43mdtype\u001b[49m\u001b[38;5;241;43m=\u001b[39;49m\u001b[43mnp\u001b[49m\u001b[38;5;241;43m.\u001b[39;49m\u001b[43mfloat32\u001b[49m\u001b[43m)\u001b[49m\n\u001b[0;32m      6\u001b[0m df_GIAB_2_X\n",
      "File \u001b[1;32m~\\anaconda3-2\\lib\\site-packages\\pandas\\core\\frame.py:558\u001b[0m, in \u001b[0;36mDataFrame.__init__\u001b[1;34m(self, data, index, columns, dtype, copy)\u001b[0m\n\u001b[0;32m    556\u001b[0m         mgr \u001b[38;5;241m=\u001b[39m init_dict({data\u001b[38;5;241m.\u001b[39mname: data}, index, columns, dtype\u001b[38;5;241m=\u001b[39mdtype)\n\u001b[0;32m    557\u001b[0m     \u001b[38;5;28;01melse\u001b[39;00m:\n\u001b[1;32m--> 558\u001b[0m         mgr \u001b[38;5;241m=\u001b[39m \u001b[43minit_ndarray\u001b[49m\u001b[43m(\u001b[49m\u001b[43mdata\u001b[49m\u001b[43m,\u001b[49m\u001b[43m \u001b[49m\u001b[43mindex\u001b[49m\u001b[43m,\u001b[49m\u001b[43m \u001b[49m\u001b[43mcolumns\u001b[49m\u001b[43m,\u001b[49m\u001b[43m \u001b[49m\u001b[43mdtype\u001b[49m\u001b[38;5;241;43m=\u001b[39;49m\u001b[43mdtype\u001b[49m\u001b[43m,\u001b[49m\u001b[43m \u001b[49m\u001b[43mcopy\u001b[49m\u001b[38;5;241;43m=\u001b[39;49m\u001b[43mcopy\u001b[49m\u001b[43m)\u001b[49m\n\u001b[0;32m    560\u001b[0m \u001b[38;5;66;03m# For data is list-like, or Iterable (will consume into list)\u001b[39;00m\n\u001b[0;32m    561\u001b[0m \u001b[38;5;28;01melif\u001b[39;00m \u001b[38;5;28misinstance\u001b[39m(data, abc\u001b[38;5;241m.\u001b[39mIterable) \u001b[38;5;129;01mand\u001b[39;00m \u001b[38;5;129;01mnot\u001b[39;00m \u001b[38;5;28misinstance\u001b[39m(data, (\u001b[38;5;28mstr\u001b[39m, \u001b[38;5;28mbytes\u001b[39m)):\n",
      "File \u001b[1;32m~\\anaconda3-2\\lib\\site-packages\\pandas\\core\\internals\\construction.py:238\u001b[0m, in \u001b[0;36minit_ndarray\u001b[1;34m(values, index, columns, dtype, copy)\u001b[0m\n\u001b[0;32m    235\u001b[0m \u001b[38;5;28;01melse\u001b[39;00m:\n\u001b[0;32m    236\u001b[0m     block_values \u001b[38;5;241m=\u001b[39m [values]\n\u001b[1;32m--> 238\u001b[0m \u001b[38;5;28;01mreturn\u001b[39;00m \u001b[43mcreate_block_manager_from_blocks\u001b[49m\u001b[43m(\u001b[49m\u001b[43mblock_values\u001b[49m\u001b[43m,\u001b[49m\u001b[43m \u001b[49m\u001b[43m[\u001b[49m\u001b[43mcolumns\u001b[49m\u001b[43m,\u001b[49m\u001b[43m \u001b[49m\u001b[43mindex\u001b[49m\u001b[43m]\u001b[49m\u001b[43m)\u001b[49m\n",
      "File \u001b[1;32m~\\anaconda3-2\\lib\\site-packages\\pandas\\core\\internals\\managers.py:1687\u001b[0m, in \u001b[0;36mcreate_block_manager_from_blocks\u001b[1;34m(blocks, axes)\u001b[0m\n\u001b[0;32m   1685\u001b[0m blocks \u001b[38;5;241m=\u001b[39m [\u001b[38;5;28mgetattr\u001b[39m(b, \u001b[38;5;124m\"\u001b[39m\u001b[38;5;124mvalues\u001b[39m\u001b[38;5;124m\"\u001b[39m, b) \u001b[38;5;28;01mfor\u001b[39;00m b \u001b[38;5;129;01min\u001b[39;00m blocks]\n\u001b[0;32m   1686\u001b[0m tot_items \u001b[38;5;241m=\u001b[39m \u001b[38;5;28msum\u001b[39m(b\u001b[38;5;241m.\u001b[39mshape[\u001b[38;5;241m0\u001b[39m] \u001b[38;5;28;01mfor\u001b[39;00m b \u001b[38;5;129;01min\u001b[39;00m blocks)\n\u001b[1;32m-> 1687\u001b[0m \u001b[38;5;28;01mraise\u001b[39;00m construction_error(tot_items, blocks[\u001b[38;5;241m0\u001b[39m]\u001b[38;5;241m.\u001b[39mshape[\u001b[38;5;241m1\u001b[39m:], axes, e)\n",
      "\u001b[1;31mValueError\u001b[0m: Shape of passed values is (1837, 6), indices imply (1837, 3)"
     ]
    }
   ],
   "source": [
    "encoder = LabelBinarizer()\n",
    "seed = 42\n",
    "\n",
    "df_GIAB_2_X = pd.DataFrame(data=X, columns=[\"f2_count_REF\", \"f2_count_ALT\", \"f2_count\"],\n",
    "                       dtype=np.float32)\n",
    "df_GIAB_2_X"
   ]
  },
  {
   "cell_type": "code",
   "execution_count": null,
   "id": "632a106e",
   "metadata": {},
   "outputs": [],
   "source": [
    "target = encoder.fit_transform(y)\n",
    "df_GIAB_2_y = pd.DataFrame(data=target, columns=[\"0/0\", \"0/1\", \"1/1\", \"./.\"])\n",
    "df_GIAB_2_y"
   ]
  },
  {
   "cell_type": "code",
   "execution_count": null,
   "id": "b262bff5",
   "metadata": {},
   "outputs": [],
   "source": [
    "X_train,X_test,y_train,y_test = train_test_split(df_GIAB_2_X,\n",
    "                                                 df_GIAB_2_y,\n",
    "                                                 test_size=0.20,\n",
    "                                                 random_state=seed)\n",
    " \n",
    "scaler = MinMaxScaler(feature_range=(0,1))\n",
    " \n",
    "X_train = pd.DataFrame(scaler.fit_transform(X_train),\n",
    "                               columns=X_train.columns,\n",
    "                               index=X_train.index)\n",
    "X_test = pd.DataFrame(scaler.transform(X_test),\n",
    "                           columns=X_test.columns,\n",
    "                           index=X_test.index)\n",
    " \n",
    "def model():\n",
    "    \"\"\"buiding the Keras model callback\"\"\"\n",
    "    model = Sequential()\n",
    "    model.add(Dense(6, input_dim=3, activation='relu', name='layer_1')) # tahn\n",
    "    model.add(Dense(10, activation='relu', name='layer_2')) # tahn\n",
    "    model.add(Dense(3, activation='softmax', name='output_layer'))\n",
    "     \n",
    "    opt = keras.optimizers.Adam(learning_rate=0.01)\n",
    "    model.compile(loss=\"categorical_crossentropy\",\n",
    "                  optimizer=opt,\n",
    "                  metrics=['accuracy'])\n",
    "\n",
    "\n",
    "    return model\n",
    " \n",
    "estimator = KerasClassifier(\n",
    "        build_fn=model,\n",
    "        epochs=200, batch_size=20,\n",
    "        verbose=2)"
   ]
  },
  {
   "cell_type": "code",
   "execution_count": null,
   "id": "a0633dab",
   "metadata": {
    "scrolled": true
   },
   "outputs": [],
   "source": [
    "X_train,X_test,y_train,y_test = train_test_split(df_GIAB_2_X,\n",
    "                                                 df_GIAB_2_y,\n",
    "                                                 test_size=0.20,\n",
    "                                                 random_state=seed)\n",
    " \n",
    "scaler = MinMaxScaler(feature_range=(0,1))\n",
    " \n",
    "X_train = pd.DataFrame(scaler.fit_transform(X_train),\n",
    "                               columns=X_train.columns,\n",
    "                               index=X_train.index)\n",
    "X_test = pd.DataFrame(scaler.transform(X_test),\n",
    "                           columns=X_test.columns,\n",
    "                           index=X_test.index)\n",
    " \n",
    "def model():\n",
    "    \"\"\"buiding the Keras model callback\"\"\"\n",
    "    model = Sequential()\n",
    "    model.add(Dense(8, input_dim=4, activation='relu', name='layer_1')) # tahn\n",
    "    model.add(Dense(10, activation='relu', name='layer_2')) # tahn\n",
    "    model.add(Dense(10, activation='relu', name='layer_3')) # tahn\n",
    "    model.add(Dense(4, activation='softmax', name='output_layer'))\n",
    "     \n",
    "    opt = keras.optimizers.Adam(learning_rate=0.01)\n",
    "    model.compile(loss=\"categorical_crossentropy\",\n",
    "                  optimizer=opt,\n",
    "                  metrics=['accuracy'])\n",
    "\n",
    "\n",
    "    return model\n",
    " \n",
    "estimator = KerasClassifier(\n",
    "        build_fn=model,\n",
    "        epochs=200, batch_size=20,\n",
    "        verbose=2)"
   ]
  },
  {
   "cell_type": "code",
   "execution_count": null,
   "id": "ea0a5ae6",
   "metadata": {},
   "outputs": [],
   "source": [
    "history = estimator.fit(X_train, y_train)"
   ]
  },
  {
   "cell_type": "code",
   "execution_count": null,
   "id": "35fa8c32",
   "metadata": {},
   "outputs": [],
   "source": [
    "history.history[\"accuracy\"]"
   ]
  },
  {
   "cell_type": "code",
   "execution_count": null,
   "id": "32f60513",
   "metadata": {},
   "outputs": [],
   "source": [
    "history.history[\"loss\"]"
   ]
  },
  {
   "cell_type": "code",
   "execution_count": null,
   "id": "9caccc8e",
   "metadata": {},
   "outputs": [],
   "source": [
    "estimator.predict(X_test)"
   ]
  },
  {
   "cell_type": "code",
   "execution_count": null,
   "id": "38a28f75",
   "metadata": {},
   "outputs": [],
   "source": [
    "y_test"
   ]
  },
  {
   "cell_type": "code",
   "execution_count": null,
   "id": "57ad950b",
   "metadata": {},
   "outputs": [],
   "source": [
    "y_test2 = y_test.copy()\n",
    "y_test2[\"genotype\"] = 0\n",
    "y_test2[\"genotype\"] = np.where(y_test2[\"0/0\"]==1, 0, y_test2[\"genotype\"])\n",
    "y_test2[\"genotype\"] = np.where(y_test2[\"1/0\"]==1, 1, y_test2[\"genotype\"])\n",
    "y_test2[\"genotype\"] = np.where(y_test2[\"1/1\"]==1, 2, y_test2[\"genotype\"])\n",
    "y_test2"
   ]
  },
  {
   "cell_type": "code",
   "execution_count": null,
   "id": "60c2ce33",
   "metadata": {},
   "outputs": [],
   "source": [
    "y_test = y_test2[\"genotype\"].to_numpy()"
   ]
  },
  {
   "cell_type": "code",
   "execution_count": null,
   "id": "fa54491c",
   "metadata": {},
   "outputs": [],
   "source": [
    "pred_DNN = estimator.predict(X_test)\n",
    "\n",
    "# Evaluate the model\n",
    "print(confusion_matrix(y_test, pred_DNN))\n",
    "print(classification_report(y_test, pred_DNN))\n",
    "print(accuracy_score(y_test, pred_DNN))"
   ]
  },
  {
   "cell_type": "code",
   "execution_count": null,
   "id": "0242ab08",
   "metadata": {
    "scrolled": true
   },
   "outputs": [],
   "source": [
    "lst_epoch = [i for i in range(1, 201)]\n",
    "#print(lst_epoch)\n",
    "lst_accuracy = history.history['accuracy']\n",
    "plt.title(\"MLP: epoch vs accuracy\")\n",
    "plt.xlabel(\"epoch\")\n",
    "plt.ylabel(\"accuracy\")\n",
    "plt.plot(lst_epoch, lst_accuracy) "
   ]
  },
  {
   "cell_type": "code",
   "execution_count": null,
   "id": "c1602ad5",
   "metadata": {},
   "outputs": [],
   "source": [
    "lst_epoch = [i for i in range(1, 201)]\n",
    "#print(lst_epoch)\n",
    "lst_loss = history.history['loss']\n",
    "plt.title(\"MLP: epoch vs loss\")\n",
    "plt.xlabel(\"epoch\")\n",
    "plt.ylabel(\"loss\")\n",
    "plt.plot(lst_epoch, lst_loss) "
   ]
  },
  {
   "cell_type": "code",
   "execution_count": null,
   "id": "07700c41",
   "metadata": {},
   "outputs": [],
   "source": [
    "model2 = Sequential()\n",
    "model2.add(Dense(6, input_dim=3, activation='relu', name='layer_1'))\n",
    "model2.add(Dense(10, activation='relu', name='layer_2'))\n",
    "model2.add(Dense(3, activation='softmax', name='output_layer'))\n",
    "\n",
    "model2.compile(loss=\"categorical_crossentropy\",\n",
    "              optimizer=\"adam\",\n",
    "              metrics=['accuracy'])"
   ]
  },
  {
   "cell_type": "code",
   "execution_count": null,
   "id": "75be0a11",
   "metadata": {},
   "outputs": [],
   "source": [
    "model().fit(X_train, y_train, epochs=200)"
   ]
  },
  {
   "cell_type": "code",
   "execution_count": null,
   "id": "c391866a",
   "metadata": {},
   "outputs": [],
   "source": [
    "model().predict(X_test)\n",
    "#score = model.evaluate(x_test, y_test, verbose = 0) "
   ]
  }
 ],
 "metadata": {
  "kernelspec": {
   "display_name": "Python 3",
   "language": "python",
   "name": "python3"
  },
  "language_info": {
   "codemirror_mode": {
    "name": "ipython",
    "version": 3
   },
   "file_extension": ".py",
   "mimetype": "text/x-python",
   "name": "python",
   "nbconvert_exporter": "python",
   "pygments_lexer": "ipython3",
   "version": "3.8.8"
  }
 },
 "nbformat": 4,
 "nbformat_minor": 5
}
